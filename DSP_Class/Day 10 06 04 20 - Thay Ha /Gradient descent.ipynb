{
 "cells": [
  {
   "cell_type": "markdown",
   "metadata": {},
   "source": [
    "## gradient descent"
   ]
  },
  {
   "cell_type": "markdown",
   "metadata": {},
   "source": [
    "Đây là dạng linear regression, tìm min của MSE bằng phương pháp tiệm cận dần đến điểm cực tiểu: x_new = x - alpha*deriviative_of_MSE_at_value_x\n",
    "Stop when: deriviative = 0 or ~ 0"
   ]
  },
  {
   "cell_type": "code",
   "execution_count": 1,
   "metadata": {},
   "outputs": [
    {
     "name": "stdout",
     "output_type": "stream",
     "text": [
      "pick a random point  6\n",
      "-0.33381927433563474\n"
     ]
    }
   ],
   "source": [
    "import numpy as np\n",
    "#step 1: create a random point x\n",
    "xrand = np.random.randint(0,10)\n",
    "print('pick a random point ', xrand)\n",
    "#step 2: derivation calculating for 3x^2 + 2x + 1 = y\n",
    "\n",
    "#TODO: How to define with any function given by user? \n",
    "#define the derivation function:\n",
    "def der_func(v):\n",
    "    delta_x = 0.001\n",
    "    v2 = v + delta_x\n",
    "    return (func_y(v2) - func_y(v))/delta_x\n",
    "\n",
    "#function to check if the point is at the minimum/maximum \n",
    "#then df ~ 0 according to some threshold:\n",
    "def check_df(df,threshold):\n",
    "    if (abs(df) < threshold):\n",
    "        return True\n",
    "    else: \n",
    "        return False\n",
    "\n",
    "#define the function,\n",
    "def func_y(var):\n",
    "    return 3*var**2 + 2*var + 1\n",
    "\n",
    "\n",
    "#or function f not change its value according to some threshold \n",
    "def check_func(fnew, fold,threshold):\n",
    "    #if value of function for new point is not so different (dèfine by threshold) with old point\n",
    "    if (abs(fnew - fold) < threshold ):\n",
    "        return True\n",
    "    else: \n",
    "        return False\n",
    "    \n",
    "#While check_df or check_func to be sure that df ~ 0 OR value of func not change\n",
    "def find_min(lr,x,threshold):\n",
    "    move = True\n",
    "    while(move):\n",
    "        df = der_func(x)\n",
    "        xnew = x - lr*df\n",
    "        #check if df of xnew ~ 0 with threshold\n",
    "        df_new = der_func(xnew)\n",
    "        df0 = check_df(df_new, threshold)\n",
    "        #check if the new func value is not so diff with the old func value\n",
    "        f = check_func(func_y(xnew),func_y(x),threshold)\n",
    "        if (df0):# or f\n",
    "            move = False\n",
    "            return xnew\n",
    "        else:\n",
    "            x = xnew\n",
    "            continue            \n",
    "#start the program: \n",
    "learning_rate = 0.033\n",
    "#input('please give me the learning rate')\n",
    "thres = 0.0001\n",
    "#input('please give me the threshold')\n",
    "print(find_min(learning_rate,xrand,thres))   "
   ]
  },
  {
   "cell_type": "code",
   "execution_count": 1,
   "metadata": {},
   "outputs": [],
   "source": [
    "\n"
   ]
  },
  {
   "cell_type": "code",
   "execution_count": 1,
   "metadata": {},
   "outputs": [],
   "source": [
    "\n"
   ]
  }
 ],
 "metadata": {
  "kernelspec": {
   "display_name": "Python 3",
   "language": "python",
   "name": "python3"
  },
  "language_info": {
   "codemirror_mode": {
    "name": "ipython",
    "version": 3
   },
   "file_extension": ".py",
   "mimetype": "text/x-python",
   "name": "python",
   "nbconvert_exporter": "python",
   "pygments_lexer": "ipython3",
   "version": "3.7.6"
  }
 },
 "nbformat": 4,
 "nbformat_minor": 4
}