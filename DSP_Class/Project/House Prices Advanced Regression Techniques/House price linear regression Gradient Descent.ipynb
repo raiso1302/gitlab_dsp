{
 "cells": [
  {
   "cell_type": "code",
   "execution_count": null,
   "metadata": {},
   "outputs": [],
   "source": [
    "#Define gradient\n",
    "#w: model parameters value matrix\n",
    "#Xbar: variable value matrix\n",
    "#y: output vector\n",
    "def grad(w,Xbar,y):\n",
    "    N = Xbar.shape[0]\n",
    "    return 1/N*Xbar.T.dot(Xbar.dot(w)-y)\n",
    "\n",
    "#mse function\n",
    "def mse(w, Xbar,y):\n",
    "    N = Xbar.shape[0]\n",
    "    return (1/2*N)*np.linalg.norm(y - Xbar.dot(w))**2\n",
    "\n",
    "#Gradient Descent\n",
    "#w_init: init param\n",
    "#grad: gradient\n",
    "#Xbar: variable value matrix\n",
    "#y: output vector\n",
    "#lr: learning rate\n",
    "def grad_des(w_init, grad, Xbar, y, lr):\n",
    "    w = [w_init]\n",
    "    for i in range(1000):\n",
    "        w_new = w[-1] - lr*grad(w[-1],Xbar,y)\n",
    "        if np.linalg.norm(grad(w_new,Xbar,y))/len(w_new) < 1e-10\n",
    "        break\n",
    "        w.append(w_new)\n",
    "    return (w,i)\n",
    "\n",
    "#"
   ]
  }
 ],
 "metadata": {
  "kernelspec": {
   "display_name": "Python 3",
   "language": "python",
   "name": "python3"
  },
  "language_info": {
   "codemirror_mode": {
    "name": "ipython",
    "version": 3
   },
   "file_extension": ".py",
   "mimetype": "text/x-python",
   "name": "python",
   "nbconvert_exporter": "python",
   "pygments_lexer": "ipython3",
   "version": "3.7.6"
  }
 },
 "nbformat": 4,
 "nbformat_minor": 4
}
