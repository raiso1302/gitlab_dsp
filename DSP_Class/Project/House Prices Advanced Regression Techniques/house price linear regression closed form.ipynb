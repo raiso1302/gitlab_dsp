{
 "cells": [
  {
   "cell_type": "markdown",
   "metadata": {},
   "source": [
    "## Data analysis\n",
    "1) Which parameter of the house affect price the most? \n",
    "Some of those parameter has linear relation with the price, some not. some combination of parameter has affect on the price the most, some not. We need to find out.\n",
    "We will analyse it by pairing each parameter  with the price. \n",
    "At the first step we consider only the numerical data\n",
    "Find the MSE min, compare, get top 2 parameter has the MSE min "
   ]
  },
  {
   "cell_type": "code",
   "execution_count": 87,
   "metadata": {},
   "outputs": [],
   "source": [
    "import numpy as np\n",
    "import pandas as pd\n",
    "\n",
    "df = pd.read_csv('./data/train.csv')\n",
    "#Save the id columns:\n",
    "df_id = df['Id']\n",
    "\n",
    "# drop ID \n",
    "df = df.drop(columns = 'Id')\n"
   ]
  },
  {
   "cell_type": "markdown",
   "metadata": {},
   "source": [
    "Function to filter the numeric columns"
   ]
  },
  {
   "cell_type": "code",
   "execution_count": 75,
   "metadata": {},
   "outputs": [],
   "source": [
    "def df_filter(df, type_of_col):\n",
    "    return df.select_dtypes(include = type_of_col)\n",
    "    \n",
    "#filtering --> 37 columns\n",
    "df_numeric_all = df_filter(df,np.number)\n",
    "#Save the Sale Price \n",
    "y = df_numeric_all['SalePrice'] \n",
    "#get the SalePrice as an array\n",
    "y = y.values "
   ]
  },
  {
   "cell_type": "code",
   "execution_count": 76,
   "metadata": {},
   "outputs": [
    {
     "name": "stdout",
     "output_type": "stream",
     "text": [
      "(1460, 1)\n",
      "(1460, 36)\n",
      "w_all =  (37,)\n",
      "w_3 =  [4.23796544e+02 1.95170269e+00 1.35974924e+05]\n"
     ]
    },
    {
     "data": {
      "text/plain": [
       "array([[6.500e+01, 8.450e+03, 1.000e+00],\n",
       "       [8.000e+01, 9.600e+03, 1.000e+00],\n",
       "       [6.800e+01, 1.125e+04, 1.000e+00],\n",
       "       ...,\n",
       "       [6.600e+01, 9.042e+03, 1.000e+00],\n",
       "       [6.800e+01, 9.717e+03, 1.000e+00],\n",
       "       [7.500e+01, 9.937e+03, 1.000e+00]])"
      ]
     },
     "execution_count": 76,
     "metadata": {},
     "output_type": "execute_result"
    }
   ],
   "source": [
    "#create matrix 1\n",
    "ones = np.ones((y.shape[0],1))\n",
    "\n",
    "df_add_ones = df_numeric_all.drop(columns='SalePrice')\n",
    "\n",
    "df_add_ones['One'] = ones\n",
    "\n",
    "df_add_ones_filtered = df_add_ones[['LotFrontage','LotArea','One']]\n",
    "\n",
    "#variable values for only 2 cols.\n",
    "Xbar = df_add_ones_filtered\n",
    "\n",
    "#Variable values for all numeric cols\n",
    "Xbar_all = df_add_ones\n",
    "\n",
    "#Get only the values to make it an array\n",
    "#Had alot of confuse with the header, index of dataframe \n",
    "Xbar = Xbar.values\n",
    "Xbar_all = Xbar_all.values\n",
    "\n",
    "#NAN remove \n",
    "Xbar = np.nan_to_num(Xbar)\n",
    "Xbar_all = np.nan_to_num(Xbar_all)\n",
    "\n",
    "#model parameter\n",
    "# Calculating weights of the fitting line \n",
    "# Caution: Xbar.T is actually the X in the form: w = (X.Xt)pseuInverse.Xy\n",
    "A = np.dot(np.transpose(Xbar), Xbar)\n",
    "A_all = np.dot(np.transpose(Xbar_all), Xbar_all)\n",
    "b = np.dot(Xbar.T, y.T)\n",
    "b_all = np.dot(Xbar_all.T, y.T)\n",
    "### CAUTION: if in the array has the NAN value, the linalg.pinv will return svd not convergence \n",
    "w = np.dot(np.linalg.pinv(A), b)\n",
    "w_all = np.dot(np.linalg.pinv(A_all), b_all)"
   ]
  },
  {
   "cell_type": "code",
   "execution_count": 88,
   "metadata": {},
   "outputs": [],
   "source": [
    "#GET THE TEST DATA \n",
    "df_t = pd.read_csv('./data/test.csv')\n",
    "\n",
    "df_t_numeric = df_t.select_dtypes(include = np.number)\n",
    "#save the id\n",
    "df_id = df_t_numeric['Id']\n",
    "#drop out the id\n",
    "df_t_numeric = df_t_numeric.drop(columns = 'Id')\n",
    "#create matrix 1\n",
    "ones = np.ones((df_t.shape[0],1))\n",
    "#ones.shape\n",
    "df_t_numeric['Ones'] = ones\n",
    "#get the variable values as an array\n",
    "X = df_t_numeric.values\n",
    "#process the NAN\n",
    "X = np.nan_to_num(X)\n",
    "#X here is actualy the transpose of variable matrix\n",
    "#And w_all need to transposed to be the model paramêtrs\n",
    "y = np.dot(X,np.transpose(w_all))\n",
    "\n",
    "\n",
    "#np.concatenate((one, X), axis = 1)\n",
    "df_test_result = pd.DataFrame({'Id':df_id.values,'SalePrice':y})\n",
    "#write to the csv file\n",
    "df_test_result.to_csv('./data/submission270220_.csv',index = False)"
   ]
  },
  {
   "cell_type": "code",
   "execution_count": null,
   "metadata": {},
   "outputs": [],
   "source": []
  }
 ],
 "metadata": {
  "kernelspec": {
   "display_name": "Python 3",
   "language": "python",
   "name": "python3"
  },
  "language_info": {
   "codemirror_mode": {
    "name": "ipython",
    "version": 3
   },
   "file_extension": ".py",
   "mimetype": "text/x-python",
   "name": "python",
   "nbconvert_exporter": "python",
   "pygments_lexer": "ipython3",
   "version": "3.7.6"
  }
 },
 "nbformat": 4,
 "nbformat_minor": 4
}
