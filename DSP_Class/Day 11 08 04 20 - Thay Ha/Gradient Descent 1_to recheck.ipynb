{
 "cells": [
  {
   "cell_type": "code",
   "execution_count": null,
   "metadata": {},
   "outputs": [
    {
     "name": "stdout",
     "output_type": "stream",
     "text": [
      "Enter x, y cordinator! Enter [Done] keyword to quit!\n",
      "x and y: 3 4\n",
      "x and y: 2 4\n",
      "x and y: 3 5\n",
      "x and y: 6 7\n",
      "x and y: 8 9\n",
      "x and y: 11 13\n",
      "x and y: 2 7\n"
     ]
    }
   ],
   "source": [
    "import numpy as np\n",
    "import matplotlib.pyplot as plt\n",
    "%matplotlib inline\n",
    "print('Enter x, y cordinator! Enter [Done] keyword to quit!')\n",
    "X = []\n",
    "Y = []\n",
    "while True:\n",
    "    m = input('x and y: ')\n",
    "    if m.lower() == 'done':\n",
    "        break\n",
    "    i, j = [float(n) for n in m.split()]\n",
    "    X.append(i)\n",
    "    Y.append(j)\n",
    "X = np.array(X)\n",
    "Y = np.array(Y)\n",
    "def f(a,b):\n",
    "    return np.sum((a*X + b - Y) ** 2)\n",
    "def df_a(a,b,d):\n",
    "    return ((f(a + d,b) - f(a,b))/d)\n",
    "def df_b(a,b,d):\n",
    "    return ((f(a,b + d) - f(a,b))/d)\n",
    "import random\n",
    "a_n = random.uniform(-10,10)\n",
    "b_n = random.uniform(-10,10)\n",
    "f1 = df_a(a_n, b_n, 0.01)\n",
    "f2 = df_b(a_n, b_n, 0.01)\n",
    "while abs(f1) > 10 ** (-10) or abs(f2) > 10 ** (-10):\n",
    "    a_n -= f1 * 0.01\n",
    "    b_n -= f2 * 0.01\n",
    "    f1 = df_a(a_n, b_n, 0.001)\n",
    "    f2 = df_b(a_n, b_n, 0.001)\n",
    "print(f1)\n",
    "print(f2)\n",
    "print(a_n)\n",
    "print(b_n)\n",
    "#x = np.arange(-20,20)\n",
    "#y = [a_n * x[i] + b_n for i in range(len(x))]\n",
    "#plt."
   ]
  }
 ],
 "metadata": {
  "kernelspec": {
   "display_name": "Python 3",
   "language": "python",
   "name": "python3"
  },
  "language_info": {
   "codemirror_mode": {
    "name": "ipython",
    "version": 3
   },
   "file_extension": ".py",
   "mimetype": "text/x-python",
   "name": "python",
   "nbconvert_exporter": "python",
   "pygments_lexer": "ipython3",
   "version": "3.7.6"
  }
 },
 "nbformat": 4,
 "nbformat_minor": 4
}
