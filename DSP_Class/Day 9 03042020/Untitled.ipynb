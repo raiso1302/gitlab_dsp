{
 "cells": [
  {
   "cell_type": "code",
   "execution_count": null,
   "metadata": {},
   "outputs": [],
   "source": [
    "#HW khác: qua 1 điểm vẽ vô số đg thẳng, 2 điểm vẽ 1 đường thẳng. bài toán estimation (ước lượng)\n",
    "# cho 100 điểm, vẽ 1 đường thẳng để cho tổng (y của đường thằng - y của điểm đã cho)^2 là min"
   ]
  },
  {
   "cell_type": "code",
   "execution_count": 6,
   "metadata": {},
   "outputs": [
    {
     "name": "stdout",
     "output_type": "stream",
     "text": [
      "Please give 2 point by giving me 4 number, separate by space2 3 4 6\n"
     ]
    }
   ],
   "source": [
    "#thru 2 given points, draw a line\n",
    "import numpy as np\n",
    "xy = input(\"Please give 2 point by giving me 4 number, separate by space\")\n",
    "points = xy.split()\n",
    "points_number = list(map(int, points))\n",
    "#points_number\n"
   ]
  },
  {
   "cell_type": "code",
   "execution_count": 20,
   "metadata": {},
   "outputs": [
    {
     "name": "stdout",
     "output_type": "stream",
     "text": [
      "15.9 ns ± 0.206 ns per loop (mean ± std. dev. of 7 runs, 100000000 loops each)\n"
     ]
    }
   ],
   "source": [
    "A = np.array([[2,4,4,6],[2,3,1,1],[2,1,5,1]])\n",
    "B = np.array([[1,2,3,4,5],[1,3,2,4,5],[2,1,3,5,1],[2,1,3,1,5]])\n",
    "C = np.dot(A,B)\n",
    "%timeit C"
   ]
  },
  {
   "cell_type": "code",
   "execution_count": 14,
   "metadata": {},
   "outputs": [
    {
     "ename": "SyntaxError",
     "evalue": "invalid syntax (<ipython-input-14-7e0da56077db>, line 1)",
     "output_type": "error",
     "traceback": [
      "\u001b[0;36m  File \u001b[0;32m\"<ipython-input-14-7e0da56077db>\"\u001b[0;36m, line \u001b[0;32m1\u001b[0m\n\u001b[0;31m    A1 = np.random.randint(0,10,((3,4),dtype=float))\u001b[0m\n\u001b[0m                                            ^\u001b[0m\n\u001b[0;31mSyntaxError\u001b[0m\u001b[0;31m:\u001b[0m invalid syntax\n"
     ]
    }
   ],
   "source": [
    "A1 = np.random.rand(0,10,((3,4),dtype=float))\n",
    "A1"
   ]
  }
 ],
 "metadata": {
  "kernelspec": {
   "display_name": "Python 3",
   "language": "python",
   "name": "python3"
  },
  "language_info": {
   "codemirror_mode": {
    "name": "ipython",
    "version": 3
   },
   "file_extension": ".py",
   "mimetype": "text/x-python",
   "name": "python",
   "nbconvert_exporter": "python",
   "pygments_lexer": "ipython3",
   "version": "3.7.6"
  }
 },
 "nbformat": 4,
 "nbformat_minor": 4
}
