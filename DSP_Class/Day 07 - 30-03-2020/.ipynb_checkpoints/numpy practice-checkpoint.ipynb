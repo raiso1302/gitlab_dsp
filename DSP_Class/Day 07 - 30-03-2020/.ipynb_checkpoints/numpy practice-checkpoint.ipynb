{
 "cells": [
  {
   "cell_type": "code",
   "execution_count": 22,
   "metadata": {},
   "outputs": [
    {
     "name": "stdout",
     "output_type": "stream",
     "text": [
      "[1 2 3 4 3 2 3 4 5 3 4 1]\n",
      "[[1 2 3 4 3 2]\n",
      " [3 4 5 3 4 1]]\n",
      "[[1 2 3 4 3 2 3 4 5 3 4 1]]\n"
     ]
    }
   ],
   "source": [
    "import numpy as np\n",
    "#create an array\n",
    "my_array = np.array([1,2,3,4,3,2,3,4,5,3,4,1])\n",
    "barray = my_array.reshape((2,6))\n",
    "carray = barray.reshape(1,12)\n",
    "print(my_array)\n",
    "print(barray)\n",
    "print(carray)"
   ]
  },
  {
   "cell_type": "code",
   "execution_count": 24,
   "metadata": {},
   "outputs": [
    {
     "data": {
      "text/plain": [
       "[2, 3, 4, 5, 2, 3, 4, 5]"
      ]
     },
     "execution_count": 24,
     "metadata": {},
     "output_type": "execute_result"
    }
   ],
   "source": [
    "#python list vs numpy array\n",
    "plist = [2,3,4,5]\n",
    "plist += plist\n",
    "plist"
   ]
  },
  {
   "cell_type": "code",
   "execution_count": 28,
   "metadata": {},
   "outputs": [
    {
     "data": {
      "text/plain": [
       "array([24,  6,  8, 10, 12, 14])"
      ]
     },
     "execution_count": 28,
     "metadata": {},
     "output_type": "execute_result"
    }
   ],
   "source": [
    "#numpy líst\n",
    "np_array = np.array([12,3,4,5,6,7])\n",
    "np_array += np_array\n",
    "np_array\n",
    "np_array"
   ]
  },
  {
   "cell_type": "code",
   "execution_count": 30,
   "metadata": {},
   "outputs": [
    {
     "data": {
      "text/plain": [
       "array([3, 5, 3])"
      ]
     },
     "execution_count": 30,
     "metadata": {},
     "output_type": "execute_result"
    }
   ],
   "source": [
    "array2 = np.array([True, 2,3]) + np.array([2,3,False])\n",
    "array2"
   ]
  },
  {
   "cell_type": "code",
   "execution_count": 32,
   "metadata": {},
   "outputs": [
    {
     "data": {
      "text/plain": [
       "array([ True, False])"
      ]
     },
     "execution_count": 32,
     "metadata": {},
     "output_type": "execute_result"
    }
   ],
   "source": [
    "np.array([True,False]) + np.array([True,False])"
   ]
  },
  {
   "cell_type": "code",
   "execution_count": 37,
   "metadata": {},
   "outputs": [
    {
     "data": {
      "text/plain": [
       "dtype('int64')"
      ]
     },
     "execution_count": 37,
     "metadata": {},
     "output_type": "execute_result"
    }
   ],
   "source": [
    "array1_9 = np.array([2,1,3,4,5,5,4,2,6])\n",
    "np.shape(array1_9)\n",
    "a3_3=array1_9.reshape(3,3)\n",
    "a3_3.dtype"
   ]
  },
  {
   "cell_type": "code",
   "execution_count": 43,
   "metadata": {},
   "outputs": [
    {
     "data": {
      "text/plain": [
       "array([0., 1., 2., 3., 4., 5., 6., 7., 8., 9.], dtype=float32)"
      ]
     },
     "execution_count": 43,
     "metadata": {},
     "output_type": "execute_result"
    }
   ],
   "source": [
    "#Array creation\n",
    "#from a list or range of values\n",
    "#from a list\n",
    "a = np.array([1,2,3,4,5])\n",
    "#from a range of values\n",
    "b = np.array(np.arange(0,10),dtype = np.float32)\n",
    "b"
   ]
  },
  {
   "cell_type": "code",
   "execution_count": 46,
   "metadata": {},
   "outputs": [
    {
     "name": "stdout",
     "output_type": "stream",
     "text": [
      "[0. 0. 0. 0.]\n",
      "[1. 1. 1. 1. 1.]\n"
     ]
    }
   ],
   "source": [
    "#zeros / ones initiation of a matrix\n",
    "z_array = np.zeros(4)\n",
    "print(z_array)\n",
    "one_array = np.ones(5)\n",
    "print(one_array)"
   ]
  },
  {
   "cell_type": "code",
   "execution_count": 56,
   "metadata": {},
   "outputs": [
    {
     "name": "stdout",
     "output_type": "stream",
     "text": [
      "[1 2 3 4 5 6 7]\n",
      "[1 3 5 7]\n",
      "[1 3 5 7]\n"
     ]
    }
   ],
   "source": [
    "#extract the desired element from an array\n",
    "a = np.array ([1,2,3,4,5,6,7])\n",
    "print(a)\n",
    "#get only the odd element\n",
    "o_array = np.array(list(filter(lambda x : x%2, a)))\n",
    "print(o_array)\n",
    "o2 = a[a%2==1]\n",
    "print(o2)"
   ]
  }
 ],
 "metadata": {
  "kernelspec": {
   "display_name": "Python 3",
   "language": "python",
   "name": "python3"
  },
  "language_info": {
   "codemirror_mode": {
    "name": "ipython",
    "version": 3
   },
   "file_extension": ".py",
   "mimetype": "text/x-python",
   "name": "python",
   "nbconvert_exporter": "python",
   "pygments_lexer": "ipython3",
   "version": "3.7.6"
  }
 },
 "nbformat": 4,
 "nbformat_minor": 4
}
