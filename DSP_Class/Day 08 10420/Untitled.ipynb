{
 "cells": [
  {
   "cell_type": "code",
   "execution_count": 3,
   "metadata": {},
   "outputs": [],
   "source": [
    "#HW\n",
    "\n",
    "import numpy as np\n",
    "a = np.fromfunction(lambda i,j,k: np.random.randint(-100,100), shape=(4,5,6),dtype=int)"
   ]
  },
  {
   "cell_type": "code",
   "execution_count": 7,
   "metadata": {},
   "outputs": [
    {
     "data": {
      "text/plain": [
       "array([[ 0.11828149,  0.72042646, -0.64980646,  0.37266551, -0.50866269,\n",
       "         0.16017487,  0.57540969,  0.03092582, -1.42039078,  0.19543062],\n",
       "       [-0.52566556, -0.63288154,  1.00111245,  0.49269602,  0.96905968,\n",
       "         0.13079034,  0.75541241, -0.36606485, -0.73681134, -0.35645443],\n",
       "       [-1.48111294,  0.43216141, -1.60450887,  0.0696264 , -0.48715304,\n",
       "         1.22949439,  0.89507277,  0.97592257, -0.37425555,  0.23064587],\n",
       "       [ 1.47008994,  0.34693475,  0.75487467, -1.34151299,  1.02119773,\n",
       "         0.49524638,  1.08279259, -0.15193242, -0.9320909 ,  1.14621534],\n",
       "       [ 1.18598305, -0.24570423, -1.59515715, -0.25782248,  2.58490999,\n",
       "        -1.16898347, -0.09274491,  1.01978479,  0.05974469,  0.20533643],\n",
       "       [ 1.00703926, -0.35986055, -0.80522264, -0.2740136 ,  0.14774814,\n",
       "        -0.13773061, -0.73200457,  3.92409064,  0.86102897,  0.47189218],\n",
       "       [ 0.70816059,  1.3876059 , -0.39169042,  0.08574447,  1.50935568,\n",
       "         0.46363035, -0.47702922, -0.14134567,  1.21804128,  1.38154338],\n",
       "       [ 2.05983437, -0.57305005, -1.36213529,  1.18062264,  1.22384798,\n",
       "        -0.66064594,  1.04418451, -1.24687201, -0.07762852,  0.84544133]])"
      ]
     },
     "execution_count": 7,
     "metadata": {},
     "output_type": "execute_result"
    }
   ],
   "source": [
    "a1 = np.random.randn(8,10)\n",
    "a1"
   ]
  },
  {
   "cell_type": "code",
   "execution_count": 9,
   "metadata": {},
   "outputs": [
    {
     "data": {
      "text/plain": [
       "array([[-0.60289481, -5.91759226,  8.85504348, -1.36904742,  5.6286049 ,\n",
       "         7.61166282,  5.33067568, -7.36722873, -0.23513191,  1.24305063],\n",
       "       [-4.71702273, -1.86755487,  6.7015622 , -2.14219615,  7.28477319,\n",
       "        -5.72819914, -8.88197515, -4.70756632, -3.36262126, -1.5041711 ],\n",
       "       [-6.02222411, -5.94778558, -0.75205464,  1.28352967,  4.80919607,\n",
       "        -8.32601467,  0.52166035, -9.11567263,  5.67496679,  0.69936295],\n",
       "       [-0.61542895,  9.36265037,  3.59733471, -2.58218818,  8.71370828,\n",
       "         5.58597545, -8.05557328, -5.24742869,  0.90037386,  9.3552357 ],\n",
       "       [ 8.83709377,  8.8723225 ,  4.9204222 , -5.54280958,  4.62858764,\n",
       "         7.78665384,  8.64590196,  3.30275936, -5.58309158, -1.22141469],\n",
       "       [-5.83162886,  6.40248067, -1.3525785 , -9.42198117, -8.9463195 ,\n",
       "        -1.68996859, -9.49192901, -3.41406622, -4.26598942, -8.00119168],\n",
       "       [-3.34631959,  1.67791308,  6.10991948, -9.28494105, -3.34915257,\n",
       "         8.23126973,  4.71467575, -9.54150763,  7.58914544, -8.41056829],\n",
       "       [-0.56788421,  5.3822956 ,  0.07539119,  2.27902659, -8.74683004,\n",
       "         9.25824225, -4.41824956,  6.39415234,  7.71997701, -5.01054625]])"
      ]
     },
     "execution_count": 9,
     "metadata": {},
     "output_type": "execute_result"
    }
   ],
   "source": [
    "a2 = np.random.uniform(-10,10,size = (8,10))\n",
    "a2"
   ]
  },
  {
   "cell_type": "code",
   "execution_count": 21,
   "metadata": {},
   "outputs": [],
   "source": [
    "def closed_value(a,n):\n",
    "    distance = np.abs(a-n)\n",
    "    idx = np.argmin(distance)\n",
    "    i,j = idx//a.shape[1], idx%a.shape[1]\n",
    "    return i,j,a[i][j]\n"
   ]
  },
  {
   "cell_type": "code",
   "execution_count": 22,
   "metadata": {},
   "outputs": [
    {
     "data": {
      "text/plain": [
       "(7, 3, 2.279026588851643)"
      ]
     },
     "execution_count": 22,
     "metadata": {},
     "output_type": "execute_result"
    }
   ],
   "source": [
    "closed_value(a2,2)"
   ]
  },
  {
   "cell_type": "code",
   "execution_count": 23,
   "metadata": {},
   "outputs": [
    {
     "data": {
      "text/plain": [
       "(8, 10)"
      ]
     },
     "execution_count": 23,
     "metadata": {},
     "output_type": "execute_result"
    }
   ],
   "source": [
    "a2.shape"
   ]
  },
  {
   "cell_type": "code",
   "execution_count": 25,
   "metadata": {},
   "outputs": [
    {
     "data": {
      "text/plain": [
       "array([73, 61, 23,  9, 38, 29, 47, 26, 32, 72,  8, 70,  0, 30, 44, 66, 22,\n",
       "       24, 42, 49,  6, 52,  3, 71, 19, 35,  4, 28, 55, 11, 62, 13, 77, 51,\n",
       "       33, 12, 14, 60, 64, 18, 57, 68,  5, 78, 45, 65, 58, 76, 46, 17, 34,\n",
       "       10, 40,  2, 41, 79, 37, 75, 39, 31, 43, 48, 15, 50,  1, 21, 20,  7,\n",
       "       59, 36, 25, 69, 74, 16, 54, 27, 63, 53, 56, 67])"
      ]
     },
     "execution_count": 25,
     "metadata": {},
     "output_type": "execute_result"
    }
   ],
   "source": [
    "d = np.abs(a2-2)\n",
    "np.argsort(d,axis = None)"
   ]
  },
  {
   "cell_type": "code",
   "execution_count": 29,
   "metadata": {},
   "outputs": [],
   "source": [
    "def closed_value_extended(a,n,k):\n",
    "    d = np.abs(a-n)\n",
    "    idx = np.argsort(d, axis=None)[:k]\n",
    "    l =[]\n",
    "    for ix in idx:\n",
    "        i,j = ix//a.shape[1],ix%a.shape[1]\n",
    "        l.append((i,j,a[i,j]))\n",
    "    #i,j = idx//a.shape[1], idx%a.shape[1]\n",
    "    return l"
   ]
  },
  {
   "cell_type": "code",
   "execution_count": 31,
   "metadata": {},
   "outputs": [
    {
     "data": {
      "text/plain": [
       "[(1, 1, -1.867554869848627),\n",
       " (1, 3, -2.1421961527968314),\n",
       " (5, 5, -1.689968586048325),\n",
       " (1, 9, -1.5041710968518966),\n",
       " (3, 3, -2.582188179889185)]"
      ]
     },
     "execution_count": 31,
     "metadata": {},
     "output_type": "execute_result"
    }
   ],
   "source": [
    "closed_value_extended(a2, -2,5)"
   ]
  },
  {
   "cell_type": "code",
   "execution_count": null,
   "metadata": {},
   "outputs": [],
   "source": [
    "iris = np.loadtxt('iris.data', skiprows=1, dtype={'name':('sepal_length','sepal_width','petal_length','petal_width','label'),\n",
    "                                                  'formats':(float,float,float,)}"
   ]
  },
  {
   "cell_type": "code",
   "execution_count": null,
   "metadata": {},
   "outputs": [],
   "source": []
  }
 ],
 "metadata": {
  "kernelspec": {
   "display_name": "Python 3",
   "language": "python",
   "name": "python3"
  },
  "language_info": {
   "codemirror_mode": {
    "name": "ipython",
    "version": 3
   },
   "file_extension": ".py",
   "mimetype": "text/x-python",
   "name": "python",
   "nbconvert_exporter": "python",
   "pygments_lexer": "ipython3",
   "version": "3.7.6"
  }
 },
 "nbformat": 4,
 "nbformat_minor": 4
}
