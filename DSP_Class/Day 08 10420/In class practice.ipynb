{
 "cells": [
  {
   "cell_type": "code",
   "execution_count": 5,
   "metadata": {},
   "outputs": [
    {
     "data": {
      "text/plain": [
       "array([[6.98500e+01, 3.88620e+01, 1.14300e+01, 5.58800e+00, 2.54000e-04,\n",
       "        0.00000e+00, 0.00000e+00, 0.00000e+00, 0.00000e+00, 2.54000e-01,\n",
       "        1.49860e+01, 7.62000e+01],\n",
       "       [2.61620e+01, 2.64160e+01, 4.47040e+01, 2.00660e+01, 1.77800e+00,\n",
       "        0.00000e+00, 0.00000e+00, 0.00000e+00, 0.00000e+00, 5.08000e-01,\n",
       "        3.30200e+00, 5.30860e+01],\n",
       "       [3.30200e+01, 9.90600e+00, 5.43560e+01, 5.18160e+01, 0.00000e+00,\n",
       "        0.00000e+00, 0.00000e+00, 0.00000e+00, 0.00000e+00, 7.64540e+01,\n",
       "        2.26060e+01, 7.06120e+01],\n",
       "       [1.16840e+01, 5.81660e+01, 7.28980e+01, 1.47320e+01, 1.42240e+01,\n",
       "        8.89000e+00, 0.00000e+00, 0.00000e+00, 0.00000e+00, 2.54000e-04,\n",
       "        5.08000e+00, 2.41300e+01],\n",
       "       [4.62280e+01, 3.35280e+01, 1.77800e+00, 8.89000e+00, 5.08000e-01,\n",
       "        0.00000e+00, 0.00000e+00, 0.00000e+00, 0.00000e+00, 2.92100e+01,\n",
       "        2.18440e+01, 8.40740e+01],\n",
       "       [1.98120e+01, 8.15340e+01, 2.54000e-04, 4.06400e+00, 2.54000e-04,\n",
       "        0.00000e+00, 0.00000e+00, 0.00000e+00, 0.00000e+00, 2.00660e+01,\n",
       "        2.03200e+00, 2.97180e+01],\n",
       "       [9.39800e+00, 4.69900e+01, 5.79120e+01, 1.20904e+02, 3.12420e+01,\n",
       "        0.00000e+00, 0.00000e+00, 0.00000e+00, 0.00000e+00, 1.37160e+01,\n",
       "        1.60020e+01, 2.28600e+01],\n",
       "       [6.90880e+01, 2.97180e+01, 2.84480e+01, 3.09880e+01, 1.72720e+01,\n",
       "        0.00000e+00, 0.00000e+00, 0.00000e+00, 1.27000e+00, 0.00000e+00,\n",
       "        4.29260e+01, 5.02920e+01],\n",
       "       [1.52400e+01, 1.38684e+02, 2.03200e+01, 1.87960e+01, 9.90600e+00,\n",
       "        2.54000e-04, 0.00000e+00, 0.00000e+00, 0.00000e+00, 0.00000e+00,\n",
       "        2.92100e+01, 4.41960e+01],\n",
       "       [1.04140e+01, 5.53720e+01, 8.25500e+01, 5.43560e+01, 2.54000e+00,\n",
       "        0.00000e+00, 0.00000e+00, 0.00000e+00, 0.00000e+00, 0.00000e+00,\n",
       "        1.11760e+01, 3.30200e+01],\n",
       "       [4.74980e+01, 2.51460e+01, 0.00000e+00, 4.92760e+01, 1.54940e+01,\n",
       "        0.00000e+00, 0.00000e+00, 0.00000e+00, 0.00000e+00, 2.03200e+01,\n",
       "        1.04140e+01, 2.59080e+01]])"
      ]
     },
     "execution_count": 5,
     "metadata": {},
     "output_type": "execute_result"
    }
   ],
   "source": [
    "import numpy as np\n",
    "snow = np.loadtxt('snow-2007-to-2017.csv',delimiter=',')\n",
    "snow_cm = snow*2.54\n",
    "snow_cm"
   ]
  },
  {
   "cell_type": "code",
   "execution_count": 8,
   "metadata": {},
   "outputs": [
    {
     "data": {
      "text/plain": [
       "array([ 7.12500833,  5.775     , 10.45833333,  6.88334167,  7.41666667,\n",
       "        5.15835   , 10.46666667,  8.85833333,  9.066675  ,  8.18333333,\n",
       "        6.36666667])"
      ]
     },
     "execution_count": 8,
     "metadata": {},
     "output_type": "execute_result"
    }
   ],
   "source": [
    "#snow depth in average for months in every year\n",
    "m = np.average(snow,axis = 1) #axis = 1 là tính theo cột\n",
    "m"
   ]
  },
  {
   "cell_type": "code",
   "execution_count": 15,
   "metadata": {},
   "outputs": [
    {
     "data": {
      "text/plain": [
       "array([12.82727273, 19.48181818, 13.40000909, 13.58181818,  3.32729091,\n",
       "        0.31819091,  0.        ,  0.        ,  0.04545455,  5.74546364,\n",
       "        6.42727273, 18.4       ])"
      ]
     },
     "execution_count": 15,
     "metadata": {},
     "output_type": "execute_result"
    }
   ],
   "source": [
    "#snow depth in aver. for year\n",
    "y = snow.mean(axis = 0)\n",
    "y"
   ]
  },
  {
   "cell_type": "code",
   "execution_count": 13,
   "metadata": {},
   "outputs": [
    {
     "data": {
      "text/plain": [
       "(11, 12)"
      ]
     },
     "execution_count": 13,
     "metadata": {},
     "output_type": "execute_result"
    }
   ],
   "source": [
    "#tính theo dòng thif axis = 1\n",
    "#tính theo cột thì axis = 0\n",
    "snow.shape"
   ]
  },
  {
   "cell_type": "code",
   "execution_count": 17,
   "metadata": {},
   "outputs": [
    {
     "data": {
      "text/plain": [
       "array([[1, 2, 3],\n",
       "       [4, 5, 6]])"
      ]
     },
     "execution_count": 17,
     "metadata": {},
     "output_type": "execute_result"
    }
   ],
   "source": [
    "ar = np.array([1,2,3,4,5,6]).reshape(2,3)\n",
    "ar"
   ]
  },
  {
   "cell_type": "code",
   "execution_count": 19,
   "metadata": {},
   "outputs": [
    {
     "data": {
      "text/plain": [
       "array([2.5, 3.5, 4.5])"
      ]
     },
     "execution_count": 19,
     "metadata": {},
     "output_type": "execute_result"
    }
   ],
   "source": [
    "ar.mean(axis = 0)"
   ]
  },
  {
   "cell_type": "markdown",
   "metadata": {},
   "source": [
    "### Exercise CS444"
   ]
  },
  {
   "cell_type": "code",
   "execution_count": 28,
   "metadata": {},
   "outputs": [],
   "source": [
    "b = np.array([[1,2,-3],[3,4,-1]])\n",
    "a = np.array([2,-5,1,1,4,5,2,-1,6]).reshape(3,3)\n",
    "#y = np.array([[2],[-4],[1]])\n",
    "y = np.array([2,-4,1]).reshape(3,-1)\n",
    "#z = np.array([[-15],[-8],[-22]])\n",
    "z = np.array([-15,-8, -22]).reshape(3,-1)"
   ]
  },
  {
   "cell_type": "code",
   "execution_count": 30,
   "metadata": {},
   "outputs": [
    {
     "data": {
      "text/plain": [
       "array([[-2,  6, -7],\n",
       "       [ 8,  2, 17]])"
      ]
     },
     "execution_count": 30,
     "metadata": {},
     "output_type": "execute_result"
    }
   ],
   "source": [
    "ba = np.dot(b,a)\n",
    "ba"
   ]
  },
  {
   "cell_type": "code",
   "execution_count": 33,
   "metadata": {},
   "outputs": [
    {
     "data": {
      "text/plain": [
       "array([0.        , 0.22222222, 0.44444444, 0.66666667, 0.88888889,\n",
       "       1.11111111, 1.33333333, 1.55555556, 1.77777778, 2.        ])"
      ]
     },
     "execution_count": 33,
     "metadata": {},
     "output_type": "execute_result"
    }
   ],
   "source": [
    "#start from 0, end at 2, create a linear incremental matrix with equal distance \n",
    "linspace = np.linspace(0,2,10)\n",
    "linspace"
   ]
  },
  {
   "cell_type": "code",
   "execution_count": 39,
   "metadata": {},
   "outputs": [
    {
     "data": {
      "text/plain": [
       "array([[0, 0, 0],\n",
       "       [0, 0, 0]])"
      ]
     },
     "execution_count": 39,
     "metadata": {},
     "output_type": "execute_result"
    }
   ],
   "source": [
    "#creat a matrix with zeros\n",
    "zeros = np.zeros((2,3),dtype=int)\n",
    "zeros"
   ]
  },
  {
   "cell_type": "code",
   "execution_count": 42,
   "metadata": {},
   "outputs": [
    {
     "name": "stdout",
     "output_type": "stream",
     "text": [
      "[[ True  True  True]\n",
      " [ True  True  True]]\n"
     ]
    },
    {
     "data": {
      "text/plain": [
       "array([[1, 1, 1],\n",
       "       [1, 1, 1]])"
      ]
     },
     "execution_count": 42,
     "metadata": {},
     "output_type": "execute_result"
    }
   ],
   "source": [
    "#creat a 1 matrix\n",
    "ones_bool = np.ones((2,3),dtype = bool)\n",
    "print(ones_bool)\n",
    "ones = np.ones((2,3),dtype = int)\n",
    "ones"
   ]
  },
  {
   "cell_type": "code",
   "execution_count": 46,
   "metadata": {},
   "outputs": [
    {
     "data": {
      "text/plain": [
       "array([[0.20090762, 0.59093919, 0.62221071],\n",
       "       [0.93015496, 0.47094156, 0.74725808]])"
      ]
     },
     "execution_count": 46,
     "metadata": {},
     "output_type": "execute_result"
    }
   ],
   "source": [
    "#random array\n",
    "randoma = np.random.random((2,3))\n",
    "randoma"
   ]
  },
  {
   "cell_type": "code",
   "execution_count": 58,
   "metadata": {},
   "outputs": [
    {
     "data": {
      "text/plain": [
       "array([[0, 0, 0],\n",
       "       [0, 0, 0]])"
      ]
     },
     "execution_count": 58,
     "metadata": {},
     "output_type": "execute_result"
    }
   ],
   "source": [
    "#empty matrix\n",
    "emp = np.empty((2,3), dtype=int)\n",
    "emp"
   ]
  },
  {
   "cell_type": "code",
   "execution_count": 60,
   "metadata": {},
   "outputs": [],
   "source": [
    "X = np.random.rand(1000,1)"
   ]
  },
  {
   "cell_type": "code",
   "execution_count": null,
   "metadata": {},
   "outputs": [],
   "source": []
  }
 ],
 "metadata": {
  "kernelspec": {
   "display_name": "Python 3",
   "language": "python",
   "name": "python3"
  },
  "language_info": {
   "codemirror_mode": {
    "name": "ipython",
    "version": 3
   },
   "file_extension": ".py",
   "mimetype": "text/x-python",
   "name": "python",
   "nbconvert_exporter": "python",
   "pygments_lexer": "ipython3",
   "version": "3.7.6"
  }
 },
 "nbformat": 4,
 "nbformat_minor": 4
}
