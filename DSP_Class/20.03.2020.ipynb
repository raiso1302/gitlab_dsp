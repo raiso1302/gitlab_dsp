{
 "cells": [
  {
   "cell_type": "code",
   "execution_count": 2,
   "metadata": {},
   "outputs": [
    {
     "name": "stdout",
     "output_type": "stream",
     "text": [
      "do something at the 0 time\n",
      "do something at the 1 time\n",
      "do something at the 2 time\n",
      "do something at the 3 time\n",
      "do something at the 4 time\n"
     ]
    }
   ],
   "source": [
    "for i in range(5):\n",
    "    print('do something at the {} time'.format(i))"
   ]
  },
  {
   "cell_type": "code",
   "execution_count": 1,
   "metadata": {},
   "outputs": [
    {
     "name": "stdout",
     "output_type": "stream",
     "text": [
      "index=0 -- value=h\n",
      "index=1 -- value=e\n",
      "index=2 -- value=l\n",
      "index=3 -- value=l\n",
      "index=4 -- value=o\n",
      "index=5 -- value= \n",
      "index=6 -- value=e\n",
      "index=7 -- value=v\n",
      "index=8 -- value=e\n",
      "index=9 -- value=r\n",
      "index=10 -- value=y\n",
      "index=11 -- value=o\n",
      "index=12 -- value=n\n",
      "index=13 -- value=e\n",
      "index=14 -- value=!\n"
     ]
    }
   ],
   "source": [
    "s = 'hello everyone!'\n",
    "for idx, it in enumerate(s):\n",
    "    print('index={} -- value={}'.format(idx, it))"
   ]
  },
  {
   "cell_type": "code",
   "execution_count": 7,
   "metadata": {},
   "outputs": [
    {
     "name": "stdout",
     "output_type": "stream",
     "text": [
      "Enter a string or [stop] keyword to quit!do some thing\n",
      "Do something with [s]...\n",
      "Word count = 3\n",
      "Enter a string or [stop] keyword to quit!STop\n",
      "Do something with [s]...\n",
      "Word count = 1\n",
      "Enter a string or [stop] keyword to quit!stop\n",
      "This command is outside while loop...\n"
     ]
    }
   ],
   "source": [
    "while True:\n",
    "    s = input('Enter a string or [stop] keyword to quit!')\n",
    "    if s == 'stop':\n",
    "        break\n",
    "    else:\n",
    "        print('Do something with [s]...')\n",
    "        print('Word count = {}'.format(len(s.split())))\n",
    "        \n",
    "print('This command is outside while loop...')"
   ]
  },
  {
   "cell_type": "code",
   "execution_count": 6,
   "metadata": {},
   "outputs": [
    {
     "name": "stdout",
     "output_type": "stream",
     "text": [
      "Enter a string with more than 5 words or [stop] keyword to quit!STop\n"
     ]
    }
   ],
   "source": [
    "while True:\n",
    "    s = input('Enter a string with more than 5 words or [stop] keyword to quit!')\n",
    "    if s.lower() == 'stop':\n",
    "        break\n",
    "    elif len(s.split()) < 5:\n",
    "        continue\n",
    "    print('Do something with [s]...')\n",
    "    print('Word count = {}'.format(len(s.split())))"
   ]
  },
  {
   "cell_type": "code",
   "execution_count": 9,
   "metadata": {},
   "outputs": [
    {
     "name": "stdout",
     "output_type": "stream",
     "text": [
      "Enter a string with more than 5 words or [stop] keyword to quit!h dkajd dakdh\n",
      "Do something with [s]...\n",
      "Word count = 3\n",
      "Enter a string with more than 5 words or [stop] keyword to quit!dajdj \n",
      "Do something with [s]...\n",
      "Word count = 1\n",
      "Enter a string with more than 5 words or [stop] keyword to quit!stop\n",
      "Do something with [s]...\n",
      "Word count = 1\n"
     ]
    }
   ],
   "source": [
    "a = 'some thing'\n",
    "while a != 'stop':\n",
    "    a = input('Enter a string with more than 5 words or [stop] keyword to quit!')\n",
    "    if a == 'stop':\n",
    "        continue\n",
    "    print('Do something with [s]...')\n",
    "    print('Word count = {}'.format(len(a.split())))"
   ]
  },
  {
   "cell_type": "code",
   "execution_count": 13,
   "metadata": {},
   "outputs": [
    {
     "name": "stdout",
     "output_type": "stream",
     "text": [
      "Enter a interger number! -1 to quit!4\n",
      "Oh no! try again.\n",
      "Enter a interger number! -1 to quit!3\n",
      "Oh no! try again.\n",
      "Enter a interger number! -1 to quit!5\n",
      "Oh no! try again.\n",
      "Enter a interger number! -1 to quit!3\n",
      "Oh no! try again.\n",
      "Enter a interger number! -1 to quit!7\n",
      "Oh no! try again.\n",
      "Enter a interger number! -1 to quit!jfhd\n"
     ]
    },
    {
     "ename": "ValueError",
     "evalue": "invalid literal for int() with base 10: 'jfhd'",
     "output_type": "error",
     "traceback": [
      "\u001b[0;31m---------------------------------------------------------------------------\u001b[0m",
      "\u001b[0;31mValueError\u001b[0m                                Traceback (most recent call last)",
      "\u001b[0;32m<ipython-input-13-f14f6d16e140>\u001b[0m in \u001b[0;36m<module>\u001b[0;34m()\u001b[0m\n\u001b[1;32m      2\u001b[0m \u001b[0;32mwhile\u001b[0m \u001b[0;32mTrue\u001b[0m\u001b[0;34m:\u001b[0m\u001b[0;34m\u001b[0m\u001b[0m\n\u001b[1;32m      3\u001b[0m     \u001b[0ma\u001b[0m \u001b[0;34m=\u001b[0m \u001b[0minput\u001b[0m\u001b[0;34m(\u001b[0m\u001b[0;34m'Enter a interger number! -1 to quit!'\u001b[0m\u001b[0;34m)\u001b[0m\u001b[0;34m\u001b[0m\u001b[0m\n\u001b[0;32m----> 4\u001b[0;31m     \u001b[0ma\u001b[0m \u001b[0;34m=\u001b[0m \u001b[0mint\u001b[0m\u001b[0;34m(\u001b[0m\u001b[0ma\u001b[0m\u001b[0;34m)\u001b[0m\u001b[0;34m\u001b[0m\u001b[0m\n\u001b[0m\u001b[1;32m      5\u001b[0m     \u001b[0;32mif\u001b[0m \u001b[0ma\u001b[0m \u001b[0;34m==\u001b[0m \u001b[0;34m-\u001b[0m\u001b[0;36m1\u001b[0m\u001b[0;34m:\u001b[0m\u001b[0;34m\u001b[0m\u001b[0m\n\u001b[1;32m      6\u001b[0m         \u001b[0;32mbreak\u001b[0m\u001b[0;34m\u001b[0m\u001b[0m\n",
      "\u001b[0;31mValueError\u001b[0m: invalid literal for int() with base 10: 'jfhd'"
     ]
    }
   ],
   "source": [
    "import random\n",
    "while True:\n",
    "    a = input('Enter a interger number! -1 to quit!')\n",
    "    a = int(a)\n",
    "    if a == -1:\n",
    "        break\n",
    "    x = 'Your got a lucky number' if a % random.randint(1,9) == 0 else 'Oh no! try again.'\n",
    "    print(x)"
   ]
  },
  {
   "cell_type": "markdown",
   "metadata": {},
   "source": [
    "#### Exercise 1"
   ]
  },
  {
   "cell_type": "code",
   "execution_count": 14,
   "metadata": {},
   "outputs": [
    {
     "name": "stdout",
     "output_type": "stream",
     "text": [
      "Enter two interger number, separated by space!4 6\n",
      "row=4 -- col=6\n"
     ]
    }
   ],
   "source": [
    "#question 1\n",
    "s = input('Enter two interger number, separated by space!')\n",
    "s = s.split()\n",
    "row = int(s[0])\n",
    "col = int(s[1])\n",
    "print('row={} -- col={}'.format(row,col))"
   ]
  },
  {
   "cell_type": "code",
   "execution_count": 17,
   "metadata": {},
   "outputs": [
    {
     "name": "stdout",
     "output_type": "stream",
     "text": [
      "[[18, 3, 20, 6, 11, 17], [15, 5, 16, 8, 19, 20], [20, 10, 13, 15, 4, 4], [5, 6, 9, 9, 20, 10]]\n"
     ]
    }
   ],
   "source": [
    "#question 2\n",
    "#solution 1\n",
    "m = []\n",
    "for i in range(row):\n",
    "    mr = []\n",
    "    for j in range(col):\n",
    "        mr.append(random.randint(0,20))\n",
    "    m.append(mr)\n",
    "print(m)"
   ]
  },
  {
   "cell_type": "code",
   "execution_count": 18,
   "metadata": {},
   "outputs": [
    {
     "name": "stdout",
     "output_type": "stream",
     "text": [
      "[[2, 6, 3, 6, 8, 7], [20, 16, 20, 11, 7, 14], [3, 3, 11, 0, 18, 5], [7, 9, 7, 8, 8, 11]]\n"
     ]
    }
   ],
   "source": [
    "#solution 2, list comprehension\n",
    "m1 = [[random.randint(0,20) for j in range(col)] for i in range(row)]\n",
    "print(m1)"
   ]
  },
  {
   "cell_type": "code",
   "execution_count": 19,
   "metadata": {},
   "outputs": [
    {
     "name": "stdout",
     "output_type": "stream",
     "text": [
      "[18, 3, 20, 6, 11, 17]\n",
      "[15, 5, 16, 8, 19, 20]\n",
      "[20, 10, 13, 15, 4, 4]\n",
      "[5, 6, 9, 9, 20, 10]\n"
     ]
    }
   ],
   "source": [
    "#question 3\n",
    "print(*m, sep='\\n')  # not correct..."
   ]
  },
  {
   "cell_type": "code",
   "execution_count": 20,
   "metadata": {},
   "outputs": [],
   "source": [
    "#solution ??? let you.\n"
   ]
  },
  {
   "cell_type": "markdown",
   "metadata": {},
   "source": [
    "### Set"
   ]
  },
  {
   "cell_type": "code",
   "execution_count": 21,
   "metadata": {},
   "outputs": [
    {
     "name": "stdout",
     "output_type": "stream",
     "text": [
      "{'h', 'e'}\n"
     ]
    }
   ],
   "source": [
    "s1 = set('heheheh')\n",
    "print(s1)"
   ]
  },
  {
   "cell_type": "code",
   "execution_count": 22,
   "metadata": {},
   "outputs": [
    {
     "ename": "TypeError",
     "evalue": "'set' object does not support indexing",
     "output_type": "error",
     "traceback": [
      "\u001b[0;31m---------------------------------------------------------------------------\u001b[0m",
      "\u001b[0;31mTypeError\u001b[0m                                 Traceback (most recent call last)",
      "\u001b[0;32m<ipython-input-22-119e8284cd1f>\u001b[0m in \u001b[0;36m<module>\u001b[0;34m()\u001b[0m\n\u001b[0;32m----> 1\u001b[0;31m \u001b[0mprint\u001b[0m\u001b[0;34m(\u001b[0m\u001b[0ms1\u001b[0m\u001b[0;34m[\u001b[0m\u001b[0;36m0\u001b[0m\u001b[0;34m]\u001b[0m\u001b[0;34m)\u001b[0m\u001b[0;34m\u001b[0m\u001b[0m\n\u001b[0m",
      "\u001b[0;31mTypeError\u001b[0m: 'set' object does not support indexing"
     ]
    }
   ],
   "source": [
    "print(s1[0])"
   ]
  },
  {
   "cell_type": "code",
   "execution_count": 23,
   "metadata": {},
   "outputs": [
    {
     "data": {
      "text/plain": [
       "{'e'}"
      ]
     },
     "execution_count": 23,
     "metadata": {},
     "output_type": "execute_result"
    }
   ],
   "source": [
    "s1.discard('h')\n",
    "s1"
   ]
  },
  {
   "cell_type": "code",
   "execution_count": 24,
   "metadata": {},
   "outputs": [
    {
     "data": {
      "text/plain": [
       "{3, 5, '6rw', 7, 9}"
      ]
     },
     "execution_count": 24,
     "metadata": {},
     "output_type": "execute_result"
    }
   ],
   "source": [
    "s2 = set([3,5,7,9,3,5,'6rw'])\n",
    "s2"
   ]
  },
  {
   "cell_type": "code",
   "execution_count": 25,
   "metadata": {},
   "outputs": [
    {
     "name": "stdout",
     "output_type": "stream",
     "text": [
      "3\n",
      "5\n",
      "7\n",
      "9\n",
      "6rw\n"
     ]
    }
   ],
   "source": [
    "for e in s2:\n",
    "    print(e)"
   ]
  },
  {
   "cell_type": "code",
   "execution_count": 27,
   "metadata": {},
   "outputs": [
    {
     "data": {
      "text/plain": [
       "3"
      ]
     },
     "execution_count": 27,
     "metadata": {},
     "output_type": "execute_result"
    }
   ],
   "source": [
    "p = s2.pop()\n",
    "p"
   ]
  },
  {
   "cell_type": "code",
   "execution_count": 28,
   "metadata": {},
   "outputs": [
    {
     "data": {
      "text/plain": [
       "True"
      ]
     },
     "execution_count": 28,
     "metadata": {},
     "output_type": "execute_result"
    }
   ],
   "source": [
    "5 in s2"
   ]
  },
  {
   "cell_type": "code",
   "execution_count": 29,
   "metadata": {},
   "outputs": [
    {
     "data": {
      "text/plain": [
       "False"
      ]
     },
     "execution_count": 29,
     "metadata": {},
     "output_type": "execute_result"
    }
   ],
   "source": [
    "10 in s2"
   ]
  },
  {
   "cell_type": "code",
   "execution_count": 30,
   "metadata": {},
   "outputs": [
    {
     "ename": "AttributeError",
     "evalue": "'frozenset' object has no attribute 'discard'",
     "output_type": "error",
     "traceback": [
      "\u001b[0;31m---------------------------------------------------------------------------\u001b[0m",
      "\u001b[0;31mAttributeError\u001b[0m                            Traceback (most recent call last)",
      "\u001b[0;32m<ipython-input-30-04698bf349d4>\u001b[0m in \u001b[0;36m<module>\u001b[0;34m()\u001b[0m\n\u001b[1;32m      1\u001b[0m \u001b[0ms3\u001b[0m \u001b[0;34m=\u001b[0m \u001b[0mfrozenset\u001b[0m\u001b[0;34m(\u001b[0m\u001b[0ms2\u001b[0m\u001b[0;34m)\u001b[0m\u001b[0;34m\u001b[0m\u001b[0m\n\u001b[0;32m----> 2\u001b[0;31m \u001b[0ms3\u001b[0m\u001b[0;34m.\u001b[0m\u001b[0mdiscard\u001b[0m\u001b[0;34m(\u001b[0m\u001b[0;36m5\u001b[0m\u001b[0;34m)\u001b[0m\u001b[0;34m\u001b[0m\u001b[0m\n\u001b[0m",
      "\u001b[0;31mAttributeError\u001b[0m: 'frozenset' object has no attribute 'discard'"
     ]
    }
   ],
   "source": [
    "s3 = frozenset(s2)\n",
    "s3.discard(5)"
   ]
  },
  {
   "cell_type": "code",
   "execution_count": 31,
   "metadata": {},
   "outputs": [
    {
     "ename": "AttributeError",
     "evalue": "'frozenset' object has no attribute 'pop'",
     "output_type": "error",
     "traceback": [
      "\u001b[0;31m---------------------------------------------------------------------------\u001b[0m",
      "\u001b[0;31mAttributeError\u001b[0m                            Traceback (most recent call last)",
      "\u001b[0;32m<ipython-input-31-f54e6ca2da20>\u001b[0m in \u001b[0;36m<module>\u001b[0;34m()\u001b[0m\n\u001b[0;32m----> 1\u001b[0;31m \u001b[0ms3\u001b[0m\u001b[0;34m.\u001b[0m\u001b[0mpop\u001b[0m\u001b[0;34m(\u001b[0m\u001b[0;34m)\u001b[0m\u001b[0;34m\u001b[0m\u001b[0m\n\u001b[0m",
      "\u001b[0;31mAttributeError\u001b[0m: 'frozenset' object has no attribute 'pop'"
     ]
    }
   ],
   "source": [
    "s3.pop()"
   ]
  },
  {
   "cell_type": "markdown",
   "metadata": {},
   "source": [
    "### Dict"
   ]
  },
  {
   "cell_type": "code",
   "execution_count": 32,
   "metadata": {},
   "outputs": [
    {
     "data": {
      "text/plain": [
       "{1: 9}"
      ]
     },
     "execution_count": 32,
     "metadata": {},
     "output_type": "execute_result"
    }
   ],
   "source": [
    "d = {}\n",
    "d[1] = 9\n",
    "d"
   ]
  },
  {
   "cell_type": "code",
   "execution_count": 33,
   "metadata": {},
   "outputs": [
    {
     "data": {
      "text/plain": [
       "dict"
      ]
     },
     "execution_count": 33,
     "metadata": {},
     "output_type": "execute_result"
    }
   ],
   "source": [
    "type(d)"
   ]
  },
  {
   "cell_type": "code",
   "execution_count": 34,
   "metadata": {},
   "outputs": [
    {
     "data": {
      "text/plain": [
       "dict"
      ]
     },
     "execution_count": 34,
     "metadata": {},
     "output_type": "execute_result"
    }
   ],
   "source": [
    "d1 = {1:9, 'a':'b', (2,3):'abc'}\n",
    "type(d1)"
   ]
  },
  {
   "cell_type": "code",
   "execution_count": 35,
   "metadata": {},
   "outputs": [
    {
     "data": {
      "text/plain": [
       "{1: 9, 'a': 'b', (2, 3): 'abc'}"
      ]
     },
     "execution_count": 35,
     "metadata": {},
     "output_type": "execute_result"
    }
   ],
   "source": [
    "d1"
   ]
  },
  {
   "cell_type": "code",
   "execution_count": 36,
   "metadata": {},
   "outputs": [
    {
     "data": {
      "text/plain": [
       "9"
      ]
     },
     "execution_count": 36,
     "metadata": {},
     "output_type": "execute_result"
    }
   ],
   "source": [
    "d1[1]"
   ]
  },
  {
   "cell_type": "code",
   "execution_count": 37,
   "metadata": {},
   "outputs": [
    {
     "data": {
      "text/plain": [
       "'abc'"
      ]
     },
     "execution_count": 37,
     "metadata": {},
     "output_type": "execute_result"
    }
   ],
   "source": [
    "d1[(2,3)]"
   ]
  },
  {
   "cell_type": "code",
   "execution_count": 38,
   "metadata": {},
   "outputs": [
    {
     "name": "stdout",
     "output_type": "stream",
     "text": [
      "{'a': 1, 'b': 2, 'c': 3, 'd': 4, 'e': 5, 'f': 6}\n"
     ]
    },
    {
     "data": {
      "text/plain": [
       "dict"
      ]
     },
     "execution_count": 38,
     "metadata": {},
     "output_type": "execute_result"
    }
   ],
   "source": [
    "d2 = dict([('a',1),('b',2),('c',3),('d',4),('e',5),('f',6)])\n",
    "print(d2)\n",
    "type(d2)"
   ]
  },
  {
   "cell_type": "code",
   "execution_count": 41,
   "metadata": {},
   "outputs": [
    {
     "data": {
      "text/plain": [
       "{'a': 10, 'b': 2, 'c': 3, 'd': 4, 'e': 5, 'f': 6}"
      ]
     },
     "execution_count": 41,
     "metadata": {},
     "output_type": "execute_result"
    }
   ],
   "source": [
    "d2['a'] = 10\n",
    "d2"
   ]
  },
  {
   "cell_type": "code",
   "execution_count": 42,
   "metadata": {},
   "outputs": [
    {
     "data": {
      "text/plain": [
       "{'a': 10, 'b': 2, 'c': 3, 'd': 4, 'e': 5, 'f': 6, 'xyz': 13}"
      ]
     },
     "execution_count": 42,
     "metadata": {},
     "output_type": "execute_result"
    }
   ],
   "source": [
    "d2['xyz'] = 13\n",
    "d2"
   ]
  },
  {
   "cell_type": "code",
   "execution_count": 43,
   "metadata": {},
   "outputs": [
    {
     "data": {
      "text/plain": [
       "{'a': 10,\n",
       " 'b': 2,\n",
       " 'c': 3,\n",
       " 'd': 4,\n",
       " 'e': 5,\n",
       " 'f': 6,\n",
       " 'xyz': 13,\n",
       " 'abc': 313,\n",
       " 'def': 9400}"
      ]
     },
     "execution_count": 43,
     "metadata": {},
     "output_type": "execute_result"
    }
   ],
   "source": [
    "d2.update({'abc':313, 'def':9400})\n",
    "d2"
   ]
  },
  {
   "cell_type": "code",
   "execution_count": 44,
   "metadata": {},
   "outputs": [
    {
     "data": {
      "text/plain": [
       "dict_keys(['a', 'b', 'c', 'd', 'e', 'f', 'xyz', 'abc', 'def'])"
      ]
     },
     "execution_count": 44,
     "metadata": {},
     "output_type": "execute_result"
    }
   ],
   "source": [
    "# list all keys\n",
    "d2.keys()"
   ]
  },
  {
   "cell_type": "code",
   "execution_count": 45,
   "metadata": {},
   "outputs": [
    {
     "data": {
      "text/plain": [
       "dict_values([10, 2, 3, 4, 5, 6, 13, 313, 9400])"
      ]
     },
     "execution_count": 45,
     "metadata": {},
     "output_type": "execute_result"
    }
   ],
   "source": [
    "# list all values\n",
    "d2.values()"
   ]
  },
  {
   "cell_type": "code",
   "execution_count": 46,
   "metadata": {},
   "outputs": [
    {
     "data": {
      "text/plain": [
       "dict_items([('a', 10), ('b', 2), ('c', 3), ('d', 4), ('e', 5), ('f', 6), ('xyz', 13), ('abc', 313), ('def', 9400)])"
      ]
     },
     "execution_count": 46,
     "metadata": {},
     "output_type": "execute_result"
    }
   ],
   "source": [
    "# list all key-value pairs\n",
    "d2.items()"
   ]
  },
  {
   "cell_type": "code",
   "execution_count": 47,
   "metadata": {},
   "outputs": [
    {
     "name": "stdout",
     "output_type": "stream",
     "text": [
      "key=a -- value=10\n",
      "key=b -- value=2\n",
      "key=c -- value=3\n",
      "key=d -- value=4\n",
      "key=e -- value=5\n",
      "key=f -- value=6\n",
      "key=xyz -- value=13\n",
      "key=abc -- value=313\n",
      "key=def -- value=9400\n"
     ]
    }
   ],
   "source": [
    "for k,v in d2.items():\n",
    "    print('key={} -- value={}'.format(k,v))"
   ]
  },
  {
   "cell_type": "markdown",
   "metadata": {},
   "source": [
    "### zip function"
   ]
  },
  {
   "cell_type": "code",
   "execution_count": 48,
   "metadata": {},
   "outputs": [
    {
     "data": {
      "text/plain": [
       "[0, 1, 2, 3, 4, 5, 6, 7, 8, 9]"
      ]
     },
     "execution_count": 48,
     "metadata": {},
     "output_type": "execute_result"
    }
   ],
   "source": [
    "idx = list(range(10))\n",
    "idx"
   ]
  },
  {
   "cell_type": "code",
   "execution_count": 50,
   "metadata": {},
   "outputs": [
    {
     "data": {
      "text/plain": [
       "[(0, 'a'),\n",
       " (1, 'b'),\n",
       " (2, 'c'),\n",
       " (3, 'd'),\n",
       " (4, 'e'),\n",
       " (5, 'f'),\n",
       " (6, 'g'),\n",
       " (7, 'h'),\n",
       " (8, 'i'),\n",
       " (9, 'j')]"
      ]
     },
     "execution_count": 50,
     "metadata": {},
     "output_type": "execute_result"
    }
   ],
   "source": [
    "values = ['a','b','c','d','e','f','g','h','i','j']\n",
    "z = list(zip(idx, values))\n",
    "z"
   ]
  },
  {
   "cell_type": "code",
   "execution_count": 52,
   "metadata": {},
   "outputs": [
    {
     "data": {
      "text/plain": [
       "{0: 'a',\n",
       " 1: 'b',\n",
       " 2: 'c',\n",
       " 3: 'd',\n",
       " 4: 'e',\n",
       " 5: 'f',\n",
       " 6: 'g',\n",
       " 7: 'h',\n",
       " 8: 'i',\n",
       " 9: 'j'}"
      ]
     },
     "execution_count": 52,
     "metadata": {},
     "output_type": "execute_result"
    }
   ],
   "source": [
    "zd = dict(zip(idx, values))\n",
    "zd"
   ]
  },
  {
   "cell_type": "code",
   "execution_count": 53,
   "metadata": {},
   "outputs": [
    {
     "data": {
      "text/plain": [
       "[(0, 'a', 10),\n",
       " (1, 'b', 11),\n",
       " (2, 'c', 12),\n",
       " (3, 'd', 13),\n",
       " (4, 'e', 14),\n",
       " (5, 'f', 15),\n",
       " (6, 'g', 16),\n",
       " (7, 'h', 17),\n",
       " (8, 'i', 18),\n",
       " (9, 'j', 19)]"
      ]
     },
     "execution_count": 53,
     "metadata": {},
     "output_type": "execute_result"
    }
   ],
   "source": [
    "zl = list(zip(idx, values, [10,11,12,13,14,15,16,17,18,19]))\n",
    "zl"
   ]
  },
  {
   "cell_type": "code",
   "execution_count": 54,
   "metadata": {},
   "outputs": [
    {
     "name": "stdout",
     "output_type": "stream",
     "text": [
      "12.414141414131\n"
     ]
    }
   ],
   "source": [
    "x = 12.414141414131\n",
    "print('{}'.format(x))"
   ]
  },
  {
   "cell_type": "code",
   "execution_count": 55,
   "metadata": {},
   "outputs": [
    {
     "name": "stdout",
     "output_type": "stream",
     "text": [
      "12.414\n"
     ]
    }
   ],
   "source": [
    "print('{:.3f}'.format(x))"
   ]
  },
  {
   "cell_type": "code",
   "execution_count": 58,
   "metadata": {},
   "outputs": [
    {
     "data": {
      "text/plain": [
       "21"
      ]
     },
     "execution_count": 58,
     "metadata": {},
     "output_type": "execute_result"
    }
   ],
   "source": [
    "x = 21\n",
    "x"
   ]
  },
  {
   "cell_type": "code",
   "execution_count": 59,
   "metadata": {},
   "outputs": [
    {
     "data": {
      "text/plain": [
       "'21'"
      ]
     },
     "execution_count": 59,
     "metadata": {},
     "output_type": "execute_result"
    }
   ],
   "source": [
    "str(x)"
   ]
  },
  {
   "cell_type": "code",
   "execution_count": 60,
   "metadata": {},
   "outputs": [
    {
     "data": {
      "text/plain": [
       "'(3, 5)'"
      ]
     },
     "execution_count": 60,
     "metadata": {},
     "output_type": "execute_result"
    }
   ],
   "source": [
    "str((3,5))"
   ]
  },
  {
   "cell_type": "code",
   "execution_count": 62,
   "metadata": {},
   "outputs": [
    {
     "name": "stdout",
     "output_type": "stream",
     "text": [
      "hello\n",
      "dhkada\n"
     ]
    }
   ],
   "source": [
    "s = 'hello\\ndhkada'\n",
    "print(s)"
   ]
  },
  {
   "cell_type": "code",
   "execution_count": 63,
   "metadata": {},
   "outputs": [
    {
     "name": "stdout",
     "output_type": "stream",
     "text": [
      "'hello\\ndhkada'\n"
     ]
    }
   ],
   "source": [
    "print(repr(s))"
   ]
  },
  {
   "cell_type": "code",
   "execution_count": 67,
   "metadata": {},
   "outputs": [
    {
     "name": "stdout",
     "output_type": "stream",
     "text": [
      "\"('3131','4342',4141)\"\n"
     ]
    }
   ],
   "source": [
    "print(repr(\"\"\"('3131','4342',4141)\"\"\"))"
   ]
  },
  {
   "cell_type": "code",
   "execution_count": 68,
   "metadata": {},
   "outputs": [
    {
     "name": "stdout",
     "output_type": "stream",
     "text": [
      "('3131','4342',4141)\n"
     ]
    }
   ],
   "source": [
    "print(\"\"\"('3131','4342',4141)\"\"\")"
   ]
  },
  {
   "cell_type": "code",
   "execution_count": 69,
   "metadata": {},
   "outputs": [
    {
     "name": "stdout",
     "output_type": "stream",
     "text": [
      "1 -- 2 -- 3\n"
     ]
    }
   ],
   "source": [
    "print('{} -- {} -- {}'.format(1,2,3))"
   ]
  },
  {
   "cell_type": "code",
   "execution_count": 70,
   "metadata": {},
   "outputs": [
    {
     "name": "stdout",
     "output_type": "stream",
     "text": [
      "2 -- 1 -- 3\n"
     ]
    }
   ],
   "source": [
    "print('{1} -- {0} -- {2}'.format(1,2,3))"
   ]
  },
  {
   "cell_type": "code",
   "execution_count": 74,
   "metadata": {},
   "outputs": [
    {
     "name": "stdout",
     "output_type": "stream",
     "text": [
      "    0     0     0     0\n",
      "    1     1     1     1\n",
      "   16     8     4     2\n",
      "   81    27     9     3\n",
      "  256    64    16     4\n",
      "  625   125    25     5\n",
      " 1296   216    36     6\n",
      " 2401   343    49     7\n",
      " 4096   512    64     8\n",
      " 6561   729    81     9\n",
      "10000  1000   100    10\n"
     ]
    }
   ],
   "source": [
    "for n in range(11):\n",
    "    print('{3:5d} {2:5d} {1:5d} {0:5d}'.format(n, n**2, n**3,n**4))"
   ]
  },
  {
   "cell_type": "code",
   "execution_count": 75,
   "metadata": {},
   "outputs": [
    {
     "data": {
      "text/plain": [
       "'speaking at the white house, trump said the nation is overcome with shock, horror and sorrow. according to bill gate who said that python nowadays is great programming language for data scientist while java still be the first for mobile apps. pascal was dead. other news, please refer here...'"
      ]
     },
     "execution_count": 75,
     "metadata": {},
     "output_type": "execute_result"
    }
   ],
   "source": [
    "s = 'speaking at the white house, trump said the nation is overcome with shock, horror and sorrow. according to bill gate who said that python nowadays is great programming language for data scientist while java still be the first for mobile apps. pascal was dead. other news, please refer here...'\n",
    "s"
   ]
  },
  {
   "cell_type": "code",
   "execution_count": 76,
   "metadata": {},
   "outputs": [
    {
     "data": {
      "text/plain": [
       "'speaking at the white house trump said the nation is overcome with shock horror and sorrow according to bill gate who said that python nowadays is great programming language for data scientist while java still be the first for mobile apps pascal was dead other news please refer here'"
      ]
     },
     "execution_count": 76,
     "metadata": {},
     "output_type": "execute_result"
    }
   ],
   "source": [
    "s = s.replace('.', '')\n",
    "s = s.replace(',', '')\n",
    "s"
   ]
  },
  {
   "cell_type": "code",
   "execution_count": 77,
   "metadata": {},
   "outputs": [
    {
     "data": {
      "text/plain": [
       "{'speaking': 1,\n",
       " 'at': 1,\n",
       " 'the': 3,\n",
       " 'white': 1,\n",
       " 'house': 1,\n",
       " 'trump': 1,\n",
       " 'said': 2,\n",
       " 'nation': 1,\n",
       " 'is': 2,\n",
       " 'overcome': 1,\n",
       " 'with': 1,\n",
       " 'shock': 1,\n",
       " 'horror': 1,\n",
       " 'and': 1,\n",
       " 'sorrow': 1,\n",
       " 'according': 1,\n",
       " 'to': 1,\n",
       " 'bill': 1,\n",
       " 'gate': 1,\n",
       " 'who': 1,\n",
       " 'that': 1,\n",
       " 'python': 1,\n",
       " 'nowadays': 1,\n",
       " 'great': 1,\n",
       " 'programming': 1,\n",
       " 'language': 1,\n",
       " 'for': 2,\n",
       " 'data': 1,\n",
       " 'scientist': 1,\n",
       " 'while': 1,\n",
       " 'java': 1,\n",
       " 'still': 1,\n",
       " 'be': 1,\n",
       " 'first': 1,\n",
       " 'mobile': 1,\n",
       " 'apps': 1,\n",
       " 'pascal': 1,\n",
       " 'was': 1,\n",
       " 'dead': 1,\n",
       " 'other': 1,\n",
       " 'news': 1,\n",
       " 'please': 1,\n",
       " 'refer': 1,\n",
       " 'here': 1}"
      ]
     },
     "execution_count": 77,
     "metadata": {},
     "output_type": "execute_result"
    }
   ],
   "source": [
    "d = {}\n",
    "for w in s.split():\n",
    "    if w in d.keys():\n",
    "        d[w] +=1\n",
    "    else:\n",
    "        d[w] = 1\n",
    "        \n",
    "d"
   ]
  },
  {
   "cell_type": "code",
   "execution_count": 78,
   "metadata": {},
   "outputs": [
    {
     "name": "stdout",
     "output_type": "stream",
     "text": [
      "enter a number: 20\n"
     ]
    },
    {
     "data": {
      "text/plain": [
       "[2, 11, 5, 1, 1]"
      ]
     },
     "execution_count": 78,
     "metadata": {},
     "output_type": "execute_result"
    }
   ],
   "source": [
    "N = int(input('enter a number: '))\n",
    "l = []\n",
    "while N >0:\n",
    "    r = random.randint(1,N)\n",
    "    l.append(r)\n",
    "    N -= r\n",
    "l"
   ]
  },
  {
   "cell_type": "code",
   "execution_count": null,
   "metadata": {},
   "outputs": [],
   "source": []
  }
 ],
 "metadata": {
  "kernelspec": {
   "display_name": "Python 3",
   "language": "python",
   "name": "python3"
  },
  "language_info": {
   "codemirror_mode": {
    "name": "ipython",
    "version": 3
   },
   "file_extension": ".py",
   "mimetype": "text/x-python",
   "name": "python",
   "nbconvert_exporter": "python",
   "pygments_lexer": "ipython3",
   "version": "3.6.6"
  }
 },
 "nbformat": 4,
 "nbformat_minor": 2
}
