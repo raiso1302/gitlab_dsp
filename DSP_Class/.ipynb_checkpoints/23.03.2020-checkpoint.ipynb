{
 "cells": [
  {
   "cell_type": "code",
   "execution_count": 1,
   "metadata": {},
   "outputs": [
    {
     "name": "stdout",
     "output_type": "stream",
     "text": [
      "[0.1, 0.2, 0.3, 0.4, 0.5, 0.6, 0.7, 0.8, 0.9, 1.0, 1.1, 1.2, 1.3, 1.4, 1.5, 1.6, 1.7, 1.8, 1.9, 2.0, 2.1, 2.2, 2.3, 2.4, 2.5, 2.6, 2.7, 2.8, 2.9, 3.0, 3.1, 3.2, 3.3, 3.4, 3.5, 3.6, 3.7, 3.8, 3.9, 4.0, 4.1, 4.2, 4.3, 4.4, 4.5, 4.6, 4.7, 4.8, 4.9, 5.0]\n"
     ]
    }
   ],
   "source": [
    "#HW2\n",
    "#1.a\n",
    "x = [i/10 for i in range(1,51)]\n",
    "print(x)\n",
    "print(' ===') for i in range (1,10)"
   ]
  },
  {
   "cell_type": "code",
   "execution_count": 5,
   "metadata": {},
   "outputs": [
    {
     "name": "stdout",
     "output_type": "stream",
     "text": [
      "[1.9900083305560514, 1.9601331556824833, 1.910672978251212, 1.8421219880057702, 1.7551651237807455, 1.6506712298193567, 1.529684374568977, 1.393413418694331, 1.243219936541329, 1.0806046117362795, 0.9071922428511546, 0.7247155089533472, 0.5349976572491747, 0.339934285800482, 0.1414744033354058, -0.05839904460257763, -0.2576889885910493, -0.4544041893861742, -0.6465791337270067, -0.8322936730942848, -1.009692209199715, -1.1770022345106916, -1.332552042559648, -1.4747874310824909, -1.6022872310938674, -1.7137775067378946, -1.8081442840341224, -1.8844446813373161, -1.941916330299181, -1.9799849932008908, -1.998270300546559, -1.9965895515895062, -1.9749595398177298, -1.9335963851589222, -1.8729133745815927, -1.793516832668294, -1.696200063420816, -1.5819354238288335, -1.4518646084002804, -1.3072872417272239, -1.1496478930665384, -0.980521642681399, -0.8015983441599509, -0.6146657399568387, -0.42159159886155945, -0.22430505387010974, -0.02477732692578112, 0.1749979668788928, 0.37302473884515147, 0.5673243709264526]\n"
     ]
    }
   ],
   "source": [
    "from math import cos\n",
    "fx = [2* cos(i) for i in x]\n",
    "print(fx)"
   ]
  },
  {
   "cell_type": "code",
   "execution_count": 6,
   "metadata": {},
   "outputs": [
    {
     "data": {
      "image/png": "[encoded data removed]",
      "text/plain": [
       "<Figure size 432x288 with 1 Axes>"
      ]
     },
     "metadata": {},
     "output_type": "display_data"
    }
   ],
   "source": [
    "import matplotlib.pyplot as plt\n",
    "%matplotlib inline\n",
    "plt.plot(x,fx)\n",
    "plt.show()"
   ]
  },
  {
   "cell_type": "code",
   "execution_count": 7,
   "metadata": {},
   "outputs": [
    {
     "data": {
      "image/png": "[encoded data removed]",
      "text/plain": [
       "<Figure size 432x288 with 1 Axes>"
      ]
     },
     "metadata": {},
     "output_type": "display_data"
    }
   ],
   "source": [
    "plt.plot(fx)\n",
    "plt.show()"
   ]
  },
  {
   "cell_type": "code",
   "execution_count": 8,
   "metadata": {},
   "outputs": [],
   "source": [
    "#2\n",
    "A = [[1,2,3],[4,5,6]]  # 2x3\n",
    "B = [[2,3],[4,5],[6,7]]  # 3x2"
   ]
  },
  {
   "cell_type": "markdown",
   "metadata": {},
   "source": [
    "$c_{i,j} = \\sum_{k=1}{a_{i,k} * b_{k,j}}$"
   ]
  },
  {
   "cell_type": "code",
   "execution_count": 11,
   "metadata": {},
   "outputs": [
    {
     "data": {
      "text/plain": [
       "[[28, 34], [64, 79]]"
      ]
     },
     "execution_count": 11,
     "metadata": {},
     "output_type": "execute_result"
    }
   ],
   "source": [
    "m = len(A)\n",
    "n = len(A[0])\n",
    "p = len(B[0])\n",
    "C = []\n",
    "for i in range(m):\n",
    "    cr = []\n",
    "    for j in range(p):\n",
    "        cij = 0\n",
    "        for k in range(n):\n",
    "            cij += A[i][k] * B[k][j]\n",
    "        cr.append(cij)\n",
    "    C.append(cr)\n",
    "C"
   ]
  },
  {
   "cell_type": "code",
   "execution_count": 14,
   "metadata": {},
   "outputs": [
    {
     "data": {
      "text/plain": [
       "[[0.3333333333333333, 0.6666666666666666, 1.0],\n",
       " [0.4, 1.0, 0.6],\n",
       " [0.25, 0.5, 0.75, 1.0],\n",
       " [0.5, 1.0, 0.6666666666666666]]"
      ]
     },
     "execution_count": 14,
     "metadata": {},
     "output_type": "execute_result"
    }
   ],
   "source": [
    "#3\n",
    "l = [(1,2,3), (2,5,3), (2,4,6,8),(3,6,4)]\n",
    "ln = []\n",
    "for t in l:\n",
    "    mx = max(t)\n",
    "    il = [i/mx for i in t]\n",
    "    ln.append(il)\n",
    "ln"
   ]
  },
  {
   "cell_type": "code",
   "execution_count": 16,
   "metadata": {},
   "outputs": [
    {
     "name": "stdout",
     "output_type": "stream",
     "text": [
      "Enter a tuple with name and price: dung 3.2\n",
      "Enter a tuple with name and price: hao 12.5\n",
      "Enter a tuple with name and price: hong 4.2\n",
      "Enter a tuple with name and price: dao 6.6\n",
      "Enter a tuple with name and price: khong 5\n",
      "Enter a tuple with name and price: s\n"
     ]
    },
    {
     "data": {
      "text/plain": [
       "[('dung', 3.2), ('hao', 12.5), ('hong', 4.2), ('dao', 6.6), ('khong', 5.0)]"
      ]
     },
     "execution_count": 16,
     "metadata": {},
     "output_type": "execute_result"
    }
   ],
   "source": [
    "#4\n",
    "l = []\n",
    "while True:\n",
    "    s = input('Enter a tuple with name and price: ').split(' ')\n",
    "    if len(s) < 2:\n",
    "        break\n",
    "    l.append((s[0],float(s[1])))\n",
    "l"
   ]
  },
  {
   "cell_type": "code",
   "execution_count": 18,
   "metadata": {},
   "outputs": [
    {
     "data": {
      "text/plain": [
       "{'item1': ('dung', 3.2),\n",
       " 'item2': ('hao', 12.5),\n",
       " 'item3': ('hong', 4.2),\n",
       " 'item4': ('dao', 6.6),\n",
       " 'item5': ('khong', 5.0)}"
      ]
     },
     "execution_count": 18,
     "metadata": {},
     "output_type": "execute_result"
    }
   ],
   "source": [
    "d = {}\n",
    "for i in range(1, len(l)+1):\n",
    "    d['item' + str(i)] = l[i-1]\n",
    "d"
   ]
  },
  {
   "cell_type": "code",
   "execution_count": 19,
   "metadata": {},
   "outputs": [
    {
     "data": {
      "text/plain": [
       "31.5"
      ]
     },
     "execution_count": 19,
     "metadata": {},
     "output_type": "execute_result"
    }
   ],
   "source": [
    "#b\n",
    "tong = 0\n",
    "for v in d.values():\n",
    "    tong += v[1]\n",
    "tong"
   ]
  },
  {
   "cell_type": "code",
   "execution_count": 20,
   "metadata": {},
   "outputs": [
    {
     "data": {
      "text/plain": [
       "[('dung', 3.2), ('hao', 12.5), ('hong', 4.2), ('dao', 6.6), ('khong', 5.0)]"
      ]
     },
     "execution_count": 20,
     "metadata": {},
     "output_type": "execute_result"
    }
   ],
   "source": [
    "#c \n",
    "li = list(d.values())\n",
    "li"
   ]
  },
  {
   "cell_type": "code",
   "execution_count": 23,
   "metadata": {},
   "outputs": [
    {
     "data": {
      "text/plain": [
       "[('hao', 12.5), ('dao', 6.6), ('khong', 5.0), ('hong', 4.2), ('dung', 3.2)]"
      ]
     },
     "execution_count": 23,
     "metadata": {},
     "output_type": "execute_result"
    }
   ],
   "source": [
    "li.sort(key=lambda x: x[1], reverse=True)\n",
    "li"
   ]
  },
  {
   "cell_type": "code",
   "execution_count": 24,
   "metadata": {},
   "outputs": [
    {
     "data": {
      "text/plain": [
       "[('hao', 12.5), ('dao', 6.6), ('khong', 5.0)]"
      ]
     },
     "execution_count": 24,
     "metadata": {},
     "output_type": "execute_result"
    }
   ],
   "source": [
    "li[:3]"
   ]
  },
  {
   "cell_type": "markdown",
   "metadata": {},
   "source": [
    "### Function"
   ]
  },
  {
   "cell_type": "code",
   "execution_count": 46,
   "metadata": {},
   "outputs": [],
   "source": [
    "def multi_matrix(A, B):\n",
    "    m = len(A)\n",
    "    n = len(A[0])\n",
    "    p = len(B[0])\n",
    "    if n != len(B):\n",
    "        print('Error')\n",
    "    else:\n",
    "        C = []\n",
    "        for i in range(m):\n",
    "            cr = []\n",
    "            for j in range(p):\n",
    "                cij = 0\n",
    "                for k in range(n):\n",
    "                    cij += A[i][k] * B[k][j]\n",
    "                cr.append(cij)\n",
    "            C.append(cr)\n",
    "        return C"
   ]
  },
  {
   "cell_type": "code",
   "execution_count": 34,
   "metadata": {},
   "outputs": [],
   "source": [
    "def myprint(A, name):\n",
    "    for idx, v in enumerate(A):\n",
    "        if idx == 0:\n",
    "            print(' '*2 + '[' + str(v) + ',')\n",
    "        elif idx == len(A)-1:\n",
    "            print(' '*3 + str(v) + ']')\n",
    "        elif idx == len(A)//2:\n",
    "            print(name +'= ' + str(v) + ',')\n",
    "        else:\n",
    "            print(' '*3 + str(v) + ',')"
   ]
  },
  {
   "cell_type": "code",
   "execution_count": 48,
   "metadata": {},
   "outputs": [
    {
     "data": {
      "text/plain": [
       "[[28, 34], [64, 79]]"
      ]
     },
     "execution_count": 48,
     "metadata": {},
     "output_type": "execute_result"
    }
   ],
   "source": [
    "multi_matrix(A,B)"
   ]
  },
  {
   "cell_type": "code",
   "execution_count": 42,
   "metadata": {},
   "outputs": [
    {
     "name": "stdout",
     "output_type": "stream",
     "text": [
      "  [[19, 20, 10, 12, 12, 6, 15],\n",
      "   [18, 3, 17, 5, 10, 6, 3],\n",
      "A= [5, 10, 19, 14, 17, 19, 12],\n",
      "   [3, 4, 12, 15, 5, 16, 4],\n",
      "   [20, 13, 3, 10, 16, 18, 18]]\n",
      "\n",
      "  [[13, 11, 13, 15, 3, 16, 9, 5],\n",
      "   [3, 12, 20, 16, 8, 20, 14, 16],\n",
      "   [17, 13, 15, 16, 9, 20, 4, 15],\n",
      "B= [7, 7, 20, 9, 15, 14, 6, 18],\n",
      "   [14, 18, 14, 6, 8, 20, 17, 15],\n",
      "   [14, 4, 3, 3, 15, 18, 8, 8],\n",
      "   [15, 19, 17, 19, 13, 8, 20, 3]]\n"
     ]
    }
   ],
   "source": [
    "import random\n",
    "M,N,P = 5,7,8\n",
    "A1 =[[random.randint(3,20) for j in range(N)] for i in range(M)]\n",
    "B1 =[[random.randint(3,20) for j in range(P)] for i in range(N)]\n",
    "myprint(A1,'A')\n",
    "print()\n",
    "myprint(B1,'B')"
   ]
  },
  {
   "cell_type": "code",
   "execution_count": 47,
   "metadata": {},
   "outputs": [
    {
     "name": "stdout",
     "output_type": "stream",
     "text": [
      "  [[1038, 1188, 1478, 1248, 868, 1540, 1115, 1054],\n",
      "   [836, 751, 858, 770, 515, 1090, 580, 690],\n",
      "C= [1200, 1130, 1329, 1052, 1053, 1634, 1026, 1165],\n",
      "   [714, 572, 785, 590, 706, 998, 514, 744],\n",
      "   [1166, 1187, 1349, 1138, 973, 1568, 1210, 971]]\n"
     ]
    }
   ],
   "source": [
    "C1 = multi_matrix(A1, B1)\n",
    "myprint(C1,'C')"
   ]
  },
  {
   "cell_type": "code",
   "execution_count": 45,
   "metadata": {},
   "outputs": [
    {
     "name": "stdout",
     "output_type": "stream",
     "text": [
      "None\n"
     ]
    }
   ],
   "source": [
    "print(C1)"
   ]
  },
  {
   "cell_type": "code",
   "execution_count": 49,
   "metadata": {},
   "outputs": [
    {
     "name": "stdout",
     "output_type": "stream",
     "text": [
      "140\n"
     ]
    }
   ],
   "source": [
    "def sumof(*arg):\n",
    "    return sum(arg)\n",
    "\n",
    "print(sumof(23,52,65))"
   ]
  },
  {
   "cell_type": "code",
   "execution_count": 50,
   "metadata": {},
   "outputs": [
    {
     "name": "stdout",
     "output_type": "stream",
     "text": [
      "23\n"
     ]
    }
   ],
   "source": [
    "print(sumof(23))"
   ]
  },
  {
   "cell_type": "code",
   "execution_count": 53,
   "metadata": {},
   "outputs": [
    {
     "name": "stdout",
     "output_type": "stream",
     "text": [
      "1806.4\n"
     ]
    }
   ],
   "source": [
    "print(sumof(23,52,65.4,532,636,34,32,432))"
   ]
  },
  {
   "cell_type": "markdown",
   "metadata": {},
   "source": [
    "### Global vs Local variables"
   ]
  },
  {
   "cell_type": "code",
   "execution_count": 67,
   "metadata": {},
   "outputs": [
    {
     "name": "stdout",
     "output_type": "stream",
     "text": [
      "local:  [5, 6, 7, 8, 9]\n",
      "global:  [1, 2, 3]\n"
     ]
    }
   ],
   "source": [
    "gv = [1,2,3]  #global, available for whole script.\n",
    "def change1():\n",
    "    gv = []  # local, belongs to this function\n",
    "    for i in range(5,10):\n",
    "        gv.append(i)  # local also\n",
    "    print('local: ', gv)\n",
    "\n",
    "change1()\n",
    "print('global: ',gv)"
   ]
  },
  {
   "cell_type": "code",
   "execution_count": 69,
   "metadata": {},
   "outputs": [
    {
     "name": "stdout",
     "output_type": "stream",
     "text": [
      "inside:  [5, 6, 7, 8, 9]\n",
      "outside:  [5, 6, 7, 8, 9]\n"
     ]
    }
   ],
   "source": [
    "gv = [1,2,3]  #global, available for whole script.\n",
    "def change2():\n",
    "    global gv\n",
    "    gv.clear()\n",
    "    for i in range(5,10):\n",
    "        gv.append(i)\n",
    "    print('inside: ', gv)\n",
    "\n",
    "change2()\n",
    "print('outside: ',gv)"
   ]
  },
  {
   "cell_type": "code",
   "execution_count": 65,
   "metadata": {},
   "outputs": [
    {
     "name": "stdout",
     "output_type": "stream",
     "text": [
      "[1, 2, 3, 5, 6, 7, 8, 9]\n",
      "[1, 2, 3, 5, 6, 7, 8, 9]\n"
     ]
    }
   ],
   "source": [
    "gv = [1,2,3]  #global, available for whole script.\n",
    "def change3():\n",
    "    for i in range(5,10):\n",
    "        gv.append(i)\n",
    "    print(gv)\n",
    "\n",
    "change3()\n",
    "print(gv)"
   ]
  },
  {
   "cell_type": "code",
   "execution_count": 72,
   "metadata": {},
   "outputs": [],
   "source": [
    "x = 3\n",
    "y = x % 3\n",
    "if y:\n",
    "    print('True')"
   ]
  },
  {
   "cell_type": "code",
   "execution_count": 76,
   "metadata": {},
   "outputs": [
    {
     "data": {
      "text/plain": [
       "3"
      ]
     },
     "execution_count": 76,
     "metadata": {},
     "output_type": "execute_result"
    }
   ],
   "source": [
    "from functools import reduce\n",
    "# how many interger numbe in the following list\n",
    "l = ['11',31, 34.3, '32', 4, 1, 'fhf', 5.3, (32,5)]\n",
    "l1 = list(map(lambda x: 1 if type(x)==int else 0, l))\n",
    "reduce(lambda x,y: x+y, l1)"
   ]
  },
  {
   "cell_type": "code",
   "execution_count": null,
   "metadata": {},
   "outputs": [],
   "source": []
  }
 ],
 "metadata": {
  "kernelspec": {
   "display_name": "Python 3",
   "language": "python",
   "name": "python3"
  },
  "language_info": {
   "codemirror_mode": {
    "name": "ipython",
    "version": 3
   },
   "file_extension": ".py",
   "mimetype": "text/x-python",
   "name": "python",
   "nbconvert_exporter": "python",
   "pygments_lexer": "ipython3",
   "version": "3.7.6"
  }
 },
 "nbformat": 4,
 "nbformat_minor": 2
}
