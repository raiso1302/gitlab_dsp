{
 "cells": [
  {
   "cell_type": "code",
   "execution_count": 8,
   "metadata": {},
   "outputs": [
    {
     "name": "stdout",
     "output_type": "stream",
     "text": [
      "<class 'list'>\n",
      "['This is the 100th Etext file presented by Project Gutenberg, and\\n', 'is presented in cooperation with World Library, Inc., from their\\n', 'Library of the Future and Shakespeare CDROMS.  Project Gutenberg\\n', 'often releases Etexts that are NOT placed in the Public Domain!!\\n', '\\n', 'Shakespeare\\n', '\\n', '*This Etext has certain copyright implications you should read!*\\n', '\\n', '<<THIS ELECTRONIC VERSION OF THE COMPLETE WORKS OF WILLIAM\\n', 'SHAKESPEARE IS COPYRIGHT 1990-1993 BY WORLD LIBRARY, INC., AND IS\\n', 'PROVIDED BY PROJECT GUTENBERG ETEXT OF ILLINOIS BENEDICTINE COLLEGE\\n', 'WITH PERMISSION.  ELECTRONIC AND MACHINE READABLE COPIES MAY BE\\n', 'DISTRIBUTED SO LONG AS SUCH COPIES (1) ARE FOR YOUR OR OTHERS\\n', 'PERSONAL USE ONLY, AND (2) ARE NOT DISTRIBUTED OR USED\\n', 'COMMERCIALLY.  PROHIBITED COMMERCIAL DISTRIBUTION INCLUDES BY ANY\\n', 'SERVICE THAT CHARGES FOR DOWNLOAD TIME OR FOR MEMBERSHIP.>>\\n', '\\n', '*Project Gutenberg is proud to cooperate with The World Library*\\n', 'in the presentation of The Complete Works of William Shakespeare\\n', 'for your reading for education and entertainment.  HOWEVER, THIS\\n', 'IS NEITHER SHAREWARE NOR PUBLIC DOMAIN. . .AND UNDER THE LIBRARY\\n', 'OF THE FUTURE CONDITIONS OF THIS PRESENTATION. . .NO CHARGES MAY\\n', 'BE MADE FOR *ANY* ACCESS TO THIS MATERIAL.  YOU ARE ENCOURAGED!!\\n', 'TO GIVE IT AWAY TO ANYONE YOU LIKE, BUT NO CHARGES ARE ALLOWED!!\\n', '\\n', '\\n', '**Welcome To The World of Free Plain Vanilla Electronic Texts**\\n', '\\n', '**Etexts Readable By Both Humans and By Computers, Since 1971**\\n', '\\n', '*These Etexts Prepared By Hundreds of Volunteers and Donations*\\n', '\\n', 'Information on contacting Project Gutenberg to get Etexts, and\\n', 'further information is included below.  We need your donations.\\n', '\\n', '\\n', 'The Complete Works of William Shakespeare \\n', '\\n', 'January, 1994  [Etext #100]\\n', '\\n', '\\n', 'The Library of the Future Complete Works of William Shakespeare \\n', 'Library of the Future is a TradeMark (TM) of World Library Inc.\\n', '******This file should be named shaks12.txt or shaks12.zip*****\\n', '\\n', 'Corrected EDITIONS of our etexts get a new NUMBER, shaks13.txt\\n', 'VERSIONS based on separate sources get new LETTER, shaks10a.txt\\n', '\\n', 'If you would like further information about World Library, Inc.\\n', 'Please call them at 1-800-443-0238 or email julianc@netcom.com\\n', 'Please give them our thanks for their Shakespeare cooperation!\\n', '\\n', '\\n', 'The official release date of all Project Gutenberg Etexts is at\\n', 'Midnight, Central Time, of the last day of the stated month.  A\\n', 'preliminary version may often be posted for suggestion, comment\\n', 'and editing by those who wish to do so.  To be sure you have an\\n', 'up to date first edition [xxxxx10x.xxx] please check file sizes\\n', 'in the first week of the next month.  Since our ftp program has\\n', 'a bug in it that scrambles the date [tried to fix and failed] a\\n', 'look at the file size will have to do, but we will try to see a\\n', 'new copy has at least one byte more or less.\\n', '\\n', '\\n', 'Information about Project Gutenberg (one page)\\n', '\\n', 'We produce about two million dollars for each hour we work.  The\\n', 'fifty hours is one conservative estimate for how long it we take\\n', 'to get any etext selected, entered, proofread, edited, copyright\\n', 'searched and analyzed, the copyright letters written, etc.  This\\n', 'projected audience is one hundred million readers.  If our value\\n', 'per text is nominally estimated at one dollar, then we produce 2\\n', 'million dollars per hour this year we, will have to do four text\\n', 'files per month:  thus upping our productivity from one million.\\n', 'The Goal of Project Gutenberg is to Give Away One Trillion Etext\\n', 'Files by the December 31, 2001.  [10,000 x 100,000,000=Trillion]\\n', 'This is ten thousand titles each to one hundred million readers,\\n', 'which is 10% of the expected number of computer users by the end\\n', 'of the year 2001.']\n"
     ]
    }
   ],
   "source": [
    "#open file word count with \"with\"\n",
    "with open('word_count_data.txt') as f:\n",
    "    #s = f.read()\n",
    "    sl = f.readlines()\n",
    "    print(type(sl))\n",
    "    #print('using read: \\n'+s)\n",
    "    #print('using readlines: \\n' + sl)\n",
    "    print(sl)"
   ]
  }
 ],
 "metadata": {
  "kernelspec": {
   "display_name": "Python 3",
   "language": "python",
   "name": "python3"
  },
  "language_info": {
   "codemirror_mode": {
    "name": "ipython",
    "version": 3
   },
   "file_extension": ".py",
   "mimetype": "text/x-python",
   "name": "python",
   "nbconvert_exporter": "python",
   "pygments_lexer": "ipython3",
   "version": "3.7.6"
  }
 },
 "nbformat": 4,
 "nbformat_minor": 4
}
