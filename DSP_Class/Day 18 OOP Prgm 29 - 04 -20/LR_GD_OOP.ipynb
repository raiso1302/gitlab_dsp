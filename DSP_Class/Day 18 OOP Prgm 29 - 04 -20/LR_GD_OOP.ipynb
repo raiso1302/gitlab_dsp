{
 "cells": [
  {
   "cell_type": "code",
   "execution_count": 31,
   "metadata": {},
   "outputs": [],
   "source": [
    "import numpy as np\n",
    "import pandas as pd\n",
    "import matplotlib.pyplot as plt\n",
    "\n",
    "class LR_GD:\n",
    "    def __init__(self,features_no):\n",
    "        self.w = np.random.randn(features_no,1)\n",
    "        print('self w : ',self.w)\n",
    "    def  cal_cost(self,w,X,Y):\n",
    "        m = len(Y)\n",
    "        predictions = np.dot(np.transpose(self.w),X)\n",
    "        cost = (1/2*m) * np.sum(np.square(predictions-Y))\n",
    "        return cost\n",
    "\n",
    "    def optimize(self, X,Y,learning_rate=0.01,iterations=100):\n",
    "        #your code here to optimize w using X,Y\n",
    "        m = len(Y)\n",
    "        cost_history = np.zeros(iterations)\n",
    "        w_history = np.zeros((iterations,self.w.shape[0])) #matrix ite row, w. rows\n",
    "        print('w_history shape: ',w_history.shape)\n",
    "        for it in range(iterations):\n",
    "            prediction = np.dot(self.w.T,X)\n",
    "            self.w = self.w - (learning_rate/m)*(np.dot(self.w,(np.dot(np.transpose(self.w),X)-Y)))\n",
    "            #( X.T.dot((prediction - Y)))\n",
    "            w_history[it,:] =np.transpose(self.w)\n",
    "            cost_history[it]  = self.cal_cost(self.w,X,Y)\n",
    "        \n",
    "        return self.w , cost_history, w_history\n",
    "    #def validate(self,X_test, Y_test):\n",
    "        #check the accuracy of the model\n"
   ]
  },
  {
   "cell_type": "markdown",
   "metadata": {},
   "source": [
    "<h3> Let's start with 1000 iterations and a learning rate of 0.01. Start with theta from a Gaussian distribution"
   ]
  },
  {
   "cell_type": "code",
   "execution_count": 32,
   "metadata": {
    "pycharm": {
     "name": "#%%\n"
    }
   },
   "outputs": [
    {
     "name": "stdout",
     "output_type": "stream",
     "text": [
      "w_pre are : [[0.05801555]\n",
      " [0.44784273]\n",
      " [0.90606537]]\n",
      "100\n",
      "self w :  [[ 1.00295581]\n",
      " [-0.41661542]\n",
      " [-0.84491356]]\n",
      "w of lrgd:  [[ 1.00295581]\n",
      " [-0.41661542]\n",
      " [-0.84491356]]\n",
      "w_history shape:  (1000, 3)\n"
     ]
    },
    {
     "ename": "ValueError",
     "evalue": "could not broadcast input array from shape (100,3) into shape (3)",
     "output_type": "error",
     "traceback": [
      "\u001B[0;31m---------------------------------------------------------------------------\u001B[0m",
      "\u001B[0;31mValueError\u001B[0m                                Traceback (most recent call last)",
      "\u001B[0;32m<ipython-input-32-89044d2da9d4>\u001B[0m in \u001B[0;36m<module>\u001B[0;34m\u001B[0m\n\u001B[1;32m     15\u001B[0m \u001B[0mlrgd\u001B[0m \u001B[0;34m=\u001B[0m \u001B[0mLR_GD\u001B[0m\u001B[0;34m(\u001B[0m\u001B[0mX_b\u001B[0m\u001B[0;34m.\u001B[0m\u001B[0mshape\u001B[0m\u001B[0;34m[\u001B[0m\u001B[0;36m0\u001B[0m\u001B[0;34m]\u001B[0m\u001B[0;34m)\u001B[0m\u001B[0;34m\u001B[0m\u001B[0;34m\u001B[0m\u001B[0m\n\u001B[1;32m     16\u001B[0m \u001B[0mprint\u001B[0m\u001B[0;34m(\u001B[0m\u001B[0;34m'w of lrgd: '\u001B[0m\u001B[0;34m,\u001B[0m\u001B[0mlrgd\u001B[0m\u001B[0;34m.\u001B[0m\u001B[0mw\u001B[0m\u001B[0;34m)\u001B[0m\u001B[0;34m\u001B[0m\u001B[0;34m\u001B[0m\u001B[0m\n\u001B[0;32m---> 17\u001B[0;31m \u001B[0mtheta\u001B[0m\u001B[0;34m,\u001B[0m\u001B[0mcost_history\u001B[0m\u001B[0;34m,\u001B[0m\u001B[0mtheta_history\u001B[0m \u001B[0;34m=\u001B[0m \u001B[0mlrgd\u001B[0m\u001B[0;34m.\u001B[0m\u001B[0moptimize\u001B[0m\u001B[0;34m(\u001B[0m\u001B[0mX_b\u001B[0m\u001B[0;34m,\u001B[0m\u001B[0mY\u001B[0m\u001B[0;34m,\u001B[0m\u001B[0mlr\u001B[0m\u001B[0;34m,\u001B[0m\u001B[0mn_iter\u001B[0m\u001B[0;34m)\u001B[0m\u001B[0;34m\u001B[0m\u001B[0;34m\u001B[0m\u001B[0m\n\u001B[0m\u001B[1;32m     18\u001B[0m \u001B[0;34m\u001B[0m\u001B[0m\n\u001B[1;32m     19\u001B[0m \u001B[0;34m\u001B[0m\u001B[0m\n",
      "\u001B[0;32m<ipython-input-31-ef7ccabcce24>\u001B[0m in \u001B[0;36moptimize\u001B[0;34m(self, X, Y, learning_rate, iterations)\u001B[0m\n\u001B[1;32m     23\u001B[0m             \u001B[0mself\u001B[0m\u001B[0;34m.\u001B[0m\u001B[0mw\u001B[0m \u001B[0;34m=\u001B[0m \u001B[0mself\u001B[0m\u001B[0;34m.\u001B[0m\u001B[0mw\u001B[0m \u001B[0;34m-\u001B[0m \u001B[0;34m(\u001B[0m\u001B[0mlearning_rate\u001B[0m\u001B[0;34m/\u001B[0m\u001B[0mm\u001B[0m\u001B[0;34m)\u001B[0m\u001B[0;34m*\u001B[0m\u001B[0;34m(\u001B[0m\u001B[0mnp\u001B[0m\u001B[0;34m.\u001B[0m\u001B[0mdot\u001B[0m\u001B[0;34m(\u001B[0m\u001B[0mself\u001B[0m\u001B[0;34m.\u001B[0m\u001B[0mw\u001B[0m\u001B[0;34m,\u001B[0m\u001B[0;34m(\u001B[0m\u001B[0mnp\u001B[0m\u001B[0;34m.\u001B[0m\u001B[0mdot\u001B[0m\u001B[0;34m(\u001B[0m\u001B[0mnp\u001B[0m\u001B[0;34m.\u001B[0m\u001B[0mtranspose\u001B[0m\u001B[0;34m(\u001B[0m\u001B[0mself\u001B[0m\u001B[0;34m.\u001B[0m\u001B[0mw\u001B[0m\u001B[0;34m)\u001B[0m\u001B[0;34m,\u001B[0m\u001B[0mX\u001B[0m\u001B[0;34m)\u001B[0m\u001B[0;34m-\u001B[0m\u001B[0mY\u001B[0m\u001B[0;34m)\u001B[0m\u001B[0;34m)\u001B[0m\u001B[0;34m)\u001B[0m\u001B[0;34m\u001B[0m\u001B[0;34m\u001B[0m\u001B[0m\n\u001B[1;32m     24\u001B[0m             \u001B[0;31m#( X.T.dot((prediction - Y)))\u001B[0m\u001B[0;34m\u001B[0m\u001B[0;34m\u001B[0m\u001B[0;34m\u001B[0m\u001B[0m\n\u001B[0;32m---> 25\u001B[0;31m             \u001B[0mw_history\u001B[0m\u001B[0;34m[\u001B[0m\u001B[0mit\u001B[0m\u001B[0;34m,\u001B[0m\u001B[0;34m:\u001B[0m\u001B[0;34m]\u001B[0m \u001B[0;34m=\u001B[0m\u001B[0mnp\u001B[0m\u001B[0;34m.\u001B[0m\u001B[0mtranspose\u001B[0m\u001B[0;34m(\u001B[0m\u001B[0mself\u001B[0m\u001B[0;34m.\u001B[0m\u001B[0mw\u001B[0m\u001B[0;34m)\u001B[0m\u001B[0;34m\u001B[0m\u001B[0;34m\u001B[0m\u001B[0m\n\u001B[0m\u001B[1;32m     26\u001B[0m             \u001B[0mcost_history\u001B[0m\u001B[0;34m[\u001B[0m\u001B[0mit\u001B[0m\u001B[0;34m]\u001B[0m  \u001B[0;34m=\u001B[0m \u001B[0mself\u001B[0m\u001B[0;34m.\u001B[0m\u001B[0mcal_cost\u001B[0m\u001B[0;34m(\u001B[0m\u001B[0mself\u001B[0m\u001B[0;34m.\u001B[0m\u001B[0mw\u001B[0m\u001B[0;34m,\u001B[0m\u001B[0mX\u001B[0m\u001B[0;34m,\u001B[0m\u001B[0mY\u001B[0m\u001B[0;34m)\u001B[0m\u001B[0;34m\u001B[0m\u001B[0;34m\u001B[0m\u001B[0m\n\u001B[1;32m     27\u001B[0m \u001B[0;34m\u001B[0m\u001B[0m\n",
      "\u001B[0;31mValueError\u001B[0m: could not broadcast input array from shape (100,3) into shape (3)"
     ]
    }
   ],
   "source": [
    "lr =0.01\n",
    "n_iter = 1000\n",
    "X = 2 * np.random.rand(2,100)\n",
    "w_pre = np.random.rand(3,1)\n",
    "print('w_pre are :',w_pre)\n",
    "\n",
    "#theta = np.random.randn(2,1)\n",
    "#add one to X\n",
    "\n",
    "ones = np.ones((1,100))\n",
    "\n",
    "X_b = np.concatenate((ones,X),axis = 0)\n",
    "Y = w_pre.T.dot(X_b)\n",
    "print(X_b.shape[1])\n",
    "lrgd = LR_GD(X_b.shape[0])\n",
    "print('w of lrgd: ',lrgd.w)\n",
    "theta,cost_history,theta_history = lrgd.optimize(X_b,Y,lr,n_iter)\n",
    "\n",
    "\n",
    "print('Theta0:          {:0.3f},\\nTheta1:          {:0.3f}'.format(theta[0][0],theta[1][0]))\n",
    "print('Final cost/MSE:  {:0.3f}'.format(cost_history[-1]))\n",
    "\n",
    "\n",
    "\n"
   ]
  }
 ],
 "metadata": {
  "kernelspec": {
   "display_name": "Python 3",
   "language": "python",
   "name": "python3"
  },
  "language_info": {
   "codemirror_mode": {
    "name": "ipython",
    "version": 3
   },
   "file_extension": ".py",
   "mimetype": "text/x-python",
   "name": "python",
   "nbconvert_exporter": "python",
   "pygments_lexer": "ipython3",
   "version": "3.7.6"
  }
 },
 "nbformat": 4,
 "nbformat_minor": 1
}