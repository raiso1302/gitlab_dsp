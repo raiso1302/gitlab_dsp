{
 "cells": [
  {
   "cell_type": "code",
   "execution_count": 3,
   "metadata": {},
   "outputs": [],
   "source": [
    "#exercise 2\n",
    "a = [[1,2,3],[4,5,6]] # matrix 2*3\n",
    "b = [[2,3],[4,5],[6,7]] #matrix 3*2"
   ]
  },
  {
   "cell_type": "code",
   "execution_count": 4,
   "metadata": {},
   "outputs": [
    {
     "data": {
      "text/plain": [
       "[[2, 10, 28, 3, 13, 34],\n",
       " [2, 10, 28, 3, 13, 34],\n",
       " [8, 28, 64, 12, 37, 79],\n",
       " [8, 28, 64, 12, 37, 79]]"
      ]
     },
     "execution_count": 4,
     "metadata": {},
     "output_type": "execute_result"
    }
   ],
   "source": [
    "m = len(a)\n",
    "n = len(a[0])\n",
    "p = len(b[0])\n",
    "c = []\n",
    "for i in range(m):\n",
    "    cr = []\n",
    "    for j in range(p):\n",
    "        cij = 0 \n",
    "        for k in range(n):\n",
    "            cij +=a[i][k]*b[k][j]\n",
    "            cr.append(cij)\n",
    "        c.append(cr)\n",
    "c"
   ]
  },
  {
   "cell_type": "code",
   "execution_count": 6,
   "metadata": {},
   "outputs": [
    {
     "data": {
      "text/plain": [
       "[[0.3333333333333333, 0.6666666666666666, 1.0],\n",
       " [0.4, 1.0, 0.6],\n",
       " [0.25, 0.5, 0.75, 1.0],\n",
       " [0.5, 1.0, 0.6666666666666666]]"
      ]
     },
     "execution_count": 6,
     "metadata": {},
     "output_type": "execute_result"
    }
   ],
   "source": [
    "#3:\n",
    "l = [(1,2,3),(2,5,3),(2,4,6,8),(3,6,4)]\n",
    "ln = []\n",
    "for t in l:\n",
    "    mx = max(t)\n",
    "    il = [i/mx for i in t]\n",
    "    ln.append(il)\n",
    "ln"
   ]
  },
  {
   "cell_type": "code",
   "execution_count": 8,
   "metadata": {},
   "outputs": [
    {
     "name": "stdout",
     "output_type": "stream",
     "text": [
      "Enter a list with name and price: meo 2\n",
      "Enter a list with name and price: cho 4\n",
      "Enter a list with name and price: s\n"
     ]
    },
    {
     "data": {
      "text/plain": [
       "[('meo', 2.0), ('cho', 4.0)]"
      ]
     },
     "execution_count": 8,
     "metadata": {},
     "output_type": "execute_result"
    }
   ],
   "source": [
    "#4\n",
    "l = []\n",
    "while True:\n",
    "    s = input('Enter a list with name and price: ').split(' ')\n",
    "    if len(s) < 2:\n",
    "        break\n",
    "    l.append((s[0], float(s[1])))\n",
    "l\n",
    "    "
   ]
  },
  {
   "cell_type": "code",
   "execution_count": 10,
   "metadata": {},
   "outputs": [
    {
     "data": {
      "text/plain": [
       "{'item1': ('meo', 2.0), 'item2': ('cho', 4.0)}"
      ]
     },
     "execution_count": 10,
     "metadata": {},
     "output_type": "execute_result"
    }
   ],
   "source": [
    "d = {}\n",
    "for i in range(1, len(l)+1):\n",
    "    d['item' + str(i)] = l[i-1]\n",
    "d"
   ]
  },
  {
   "cell_type": "code",
   "execution_count": 12,
   "metadata": {},
   "outputs": [
    {
     "ename": "AttributeError",
     "evalue": "'dict' object has no attribute 'value'",
     "output_type": "error",
     "traceback": [
      "\u001b[0;31m---------------------------------------------------------------------------\u001b[0m",
      "\u001b[0;31mAttributeError\u001b[0m                            Traceback (most recent call last)",
      "\u001b[0;32m<ipython-input-12-f3514dabbb2b>\u001b[0m in \u001b[0;36m<module>\u001b[0;34m\u001b[0m\n\u001b[1;32m      1\u001b[0m \u001b[0;31m#4\u001b[0m\u001b[0;34m\u001b[0m\u001b[0;34m\u001b[0m\u001b[0;34m\u001b[0m\u001b[0m\n\u001b[1;32m      2\u001b[0m \u001b[0mtong\u001b[0m \u001b[0;34m=\u001b[0m \u001b[0;36m0\u001b[0m\u001b[0;34m\u001b[0m\u001b[0;34m\u001b[0m\u001b[0m\n\u001b[0;32m----> 3\u001b[0;31m \u001b[0;32mfor\u001b[0m \u001b[0mv\u001b[0m \u001b[0;32min\u001b[0m \u001b[0md\u001b[0m\u001b[0;34m.\u001b[0m\u001b[0mvalue\u001b[0m\u001b[0;34m(\u001b[0m\u001b[0;34m)\u001b[0m\u001b[0;34m:\u001b[0m\u001b[0;34m\u001b[0m\u001b[0;34m\u001b[0m\u001b[0m\n\u001b[0m\u001b[1;32m      4\u001b[0m     \u001b[0mtong\u001b[0m \u001b[0;34m+=\u001b[0m\u001b[0mv\u001b[0m\u001b[0;34m[\u001b[0m\u001b[0ml\u001b[0m\u001b[0;34m]\u001b[0m\u001b[0;34m\u001b[0m\u001b[0;34m\u001b[0m\u001b[0m\n\u001b[1;32m      5\u001b[0m \u001b[0mtong\u001b[0m\u001b[0;34m\u001b[0m\u001b[0;34m\u001b[0m\u001b[0m\n",
      "\u001b[0;31mAttributeError\u001b[0m: 'dict' object has no attribute 'value'"
     ]
    }
   ],
   "source": [
    "#4\n",
    "tong = 0 \n",
    "for v in d.value():\n",
    "    tong +=v[l]\n",
    "tong"
   ]
  },
  {
   "cell_type": "markdown",
   "metadata": {},
   "source": [
    "## Function"
   ]
  },
  {
   "cell_type": "code",
   "execution_count": 14,
   "metadata": {},
   "outputs": [],
   "source": [
    "def multi_matrix(A,B):\n",
    "    m = len(A)\n",
    "    n = len(A[0])\n",
    "    p = len(B[0])\n",
    "    if n != len(B):\n",
    "        print ('Error')\n",
    "    else:\n",
    "        C = []\n",
    "        for i in range(m):\n",
    "            cr = []\n",
    "            for j in range(p):\n",
    "                cij = 0\n",
    "                for k in range(n):\n",
    "                    cij += A[i][j]*B[k][j]\n",
    "                    cr.append(cij)\n",
    "                    C.append(cr)\n",
    "        print(C)"
   ]
  },
  {
   "cell_type": "code",
   "execution_count": 17,
   "metadata": {},
   "outputs": [
    {
     "name": "stdout",
     "output_type": "stream",
     "text": [
      "[[2, 6, 12, 6, 16, 30], [2, 6, 12, 6, 16, 30], [2, 6, 12, 6, 16, 30], [2, 6, 12, 6, 16, 30], [2, 6, 12, 6, 16, 30], [2, 6, 12, 6, 16, 30], [8, 24, 48, 15, 40, 75], [8, 24, 48, 15, 40, 75], [8, 24, 48, 15, 40, 75], [8, 24, 48, 15, 40, 75], [8, 24, 48, 15, 40, 75], [8, 24, 48, 15, 40, 75]]\n"
     ]
    }
   ],
   "source": [
    "multi_matrix(a,b)"
   ]
  },
  {
   "cell_type": "code",
   "execution_count": 19,
   "metadata": {},
   "outputs": [],
   "source": [
    "def myprint(A):\n",
    "    for idx, v in enumerate(A):\n",
    "        if idx ==0:\n",
    "            print(' '*2+'['+str(v)+',')\n",
    "        elif idx == len(A)-1:\n",
    "            print(' '*4 + str(v) + ']')\n",
    "        elif idx == len(A)//2:\n",
    "            print('l='+str(v)+',')\n",
    "        else:\n",
    "            print(' '*4 + str(v) + ',')"
   ]
  },
  {
   "cell_type": "code",
   "execution_count": 22,
   "metadata": {},
   "outputs": [
    {
     "ename": "SyntaxError",
     "evalue": "invalid syntax (<ipython-input-22-bcb95906769e>, line 5)",
     "output_type": "error",
     "traceback": [
      "\u001b[0;36m  File \u001b[0;32m\"<ipython-input-22-bcb95906769e>\"\u001b[0;36m, line \u001b[0;32m5\u001b[0m\n\u001b[0;31m    il = [i/]\u001b[0m\n\u001b[0m            ^\u001b[0m\n\u001b[0;31mSyntaxError\u001b[0m\u001b[0;31m:\u001b[0m invalid syntax\n"
     ]
    }
   ],
   "source": [
    "def normalize(A):\n",
    "    s = []\n",
    "    for t in A:\n",
    "        mx = max(t) + 1\n",
    "        il = [i/]"
   ]
  },
  {
   "cell_type": "code",
   "execution_count": 23,
   "metadata": {},
   "outputs": [],
   "source": [
    "def scale(l):\n",
    "    mx = max([max(row) for row in l])\n",
    "    l1 = [[j/mx for j in i] for i in l]\n",
    "    return l1"
   ]
  },
  {
   "cell_type": "code",
   "execution_count": 25,
   "metadata": {},
   "outputs": [
    {
     "data": {
      "text/plain": [
       "[[4, 3, 6], [2, 1, 6], [2, 4, 0], [2, 4, 8]]"
      ]
     },
     "execution_count": 25,
     "metadata": {},
     "output_type": "execute_result"
    }
   ],
   "source": [
    "import random as rd\n",
    "l = [[rd.randint(0,10) for j in range(3)] for i in range(4)]\n",
    "l"
   ]
  },
  {
   "cell_type": "code",
   "execution_count": 27,
   "metadata": {},
   "outputs": [
    {
     "data": {
      "text/plain": [
       "[[0.5, 0.375, 0.75], [0.25, 0.125, 0.75], [0.25, 0.5, 0.0], [0.25, 0.5, 1.0]]"
      ]
     },
     "execution_count": 27,
     "metadata": {},
     "output_type": "execute_result"
    }
   ],
   "source": [
    "scale(l)"
   ]
  },
  {
   "cell_type": "markdown",
   "metadata": {},
   "source": [
    "## arguments in function"
   ]
  },
  {
   "cell_type": "code",
   "execution_count": 29,
   "metadata": {},
   "outputs": [
    {
     "name": "stdout",
     "output_type": "stream",
     "text": [
      "140\n"
     ]
    }
   ],
   "source": [
    "def sumof(*arg):\n",
    "    return sum(arg)\n",
    "print (sumof(23,52,65))"
   ]
  },
  {
   "cell_type": "code",
   "execution_count": 33,
   "metadata": {},
   "outputs": [
    {
     "name": "stdout",
     "output_type": "stream",
     "text": [
      "6\n"
     ]
    },
    {
     "data": {
      "text/plain": [
       "7"
      ]
     },
     "execution_count": 33,
     "metadata": {},
     "output_type": "execute_result"
    }
   ],
   "source": [
    "def pluswithdefaultarg(a=2,b=4):\n",
    "    return a+b\n",
    "print(pluswithdefaultarg())\n",
    "pluswithdefaultarg(3,4)"
   ]
  },
  {
   "cell_type": "code",
   "execution_count": 35,
   "metadata": {},
   "outputs": [
    {
     "data": {
      "text/plain": [
       "10"
      ]
     },
     "execution_count": 35,
     "metadata": {},
     "output_type": "execute_result"
    }
   ],
   "source": [
    "#direct define value of arguments\n",
    "pluswithdefaultarg(a=3,b=7)"
   ]
  },
  {
   "cell_type": "code",
   "execution_count": 37,
   "metadata": {},
   "outputs": [
    {
     "ename": "SyntaxError",
     "evalue": "name 'gvar' is assigned to before global declaration (<ipython-input-37-fa4895aaaeb7>, line 7)",
     "output_type": "error",
     "traceback": [
      "\u001b[0;36m  File \u001b[0;32m\"<ipython-input-37-fa4895aaaeb7>\"\u001b[0;36m, line \u001b[0;32m7\u001b[0m\n\u001b[0;31m    print(gvar)\u001b[0m\n\u001b[0m       ^\u001b[0m\n\u001b[0;31mSyntaxError\u001b[0m\u001b[0;31m:\u001b[0m name 'gvar' is assigned to before global declaration\n"
     ]
    }
   ],
   "source": [
    "gvar = [1,2,3] #global scope\n",
    "def change():\n",
    "    gvar = [] #local, belongs to thís fnct\n",
    "    global gvar\n",
    "    for i in range(5,10):\n",
    "        gvar.append(i)\n",
    "        print(gvar)\n",
    "change()\n",
    "print(gvar)      "
   ]
  },
  {
   "cell_type": "code",
   "execution_count": 38,
   "metadata": {},
   "outputs": [
    {
     "data": {
      "text/plain": [
       "10"
      ]
     },
     "execution_count": 38,
     "metadata": {},
     "output_type": "execute_result"
    }
   ],
   "source": [
    "double = lambda x: x*2\n",
    "double(5)                                                                                                                                            "
   ]
  }
 ],
 "metadata": {
  "kernelspec": {
   "display_name": "Python 3",
   "language": "python",
   "name": "python3"
  },
  "language_info": {
   "codemirror_mode": {
    "name": "ipython",
    "version": 3
   },
   "file_extension": ".py",
   "mimetype": "text/x-python",
   "name": "python",
   "nbconvert_exporter": "python",
   "pygments_lexer": "ipython3",
   "version": "3.7.6"
  }
 },
 "nbformat": 4,
 "nbformat_minor": 4
}
