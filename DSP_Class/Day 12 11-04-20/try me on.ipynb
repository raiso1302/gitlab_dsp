{
 "cells": [
  {
   "cell_type": "code",
   "execution_count": 1,
   "metadata": {},
   "outputs": [],
   "source": [
    "#import the pandas and numpy\n",
    "import pandas as pd\n",
    "import numpy as np"
   ]
  },
  {
   "cell_type": "code",
   "execution_count": 4,
   "metadata": {},
   "outputs": [
    {
     "name": "stdout",
     "output_type": "stream",
     "text": [
      "0    0\n",
      "1    2\n",
      "2    1\n",
      "3    4\n",
      "4    1\n",
      "5    6\n",
      "dtype: int64\n",
      "4\n"
     ]
    }
   ],
   "source": [
    "#Create a Series with a list random int element without predefine index --> use default sequence index\n",
    "s1 = pd.Series(np.random.randint(7,size =6))\n",
    "print(s1)\n",
    "#access to element by its index\n",
    "print(s1[3])"
   ]
  },
  {
   "cell_type": "code",
   "execution_count": 9,
   "metadata": {},
   "outputs": [
    {
     "name": "stdout",
     "output_type": "stream",
     "text": [
      "a     4\n",
      "b     7\n",
      "c     2\n",
      "g     2\n",
      "hl    0\n",
      "o     7\n",
      "p     4\n",
      "dtype: int64\n",
      "2\n",
      "2\n"
     ]
    }
   ],
   "source": [
    "#Create a Series with random int element with predefine index, act like a key:value pair in dictionary\n",
    "s2 = pd.Series(np.random.randint(8,size=7), index = ['a','b','c','g','h''l','o','p'])\n",
    "print(s2)\n",
    "#access to el. by its defined index\n",
    "print(s2['g'])\n",
    "#access to el. by its default index\n",
    "print(s2[3])"
   ]
  },
  {
   "cell_type": "code",
   "execution_count": 10,
   "metadata": {},
   "outputs": [],
   "source": [
    "# Create a Series with a dictionary:"
   ]
  },
  {
   "cell_type": "code",
   "execution_count": 24,
   "metadata": {},
   "outputs": [
    {
     "name": "stdout",
     "output_type": "stream",
     "text": [
      "a    23\n",
      "b    12\n",
      "c    11\n",
      "d     7\n",
      "dtype: int64\n",
      "True\n",
      "False\n"
     ]
    }
   ],
   "source": [
    "s3 = pd.Series({'a':23,'b':12,'c':11,'d':7})\n",
    "print(s3)\n",
    "s3['b']\n",
    "print('b' in s3)\n",
    "print('s' in s3)"
   ]
  },
  {
   "cell_type": "code",
   "execution_count": 14,
   "metadata": {},
   "outputs": [
    {
     "name": "stdout",
     "output_type": "stream",
     "text": [
      "1    3\n",
      "2    3\n",
      "3    3\n",
      "4    3\n",
      "5    3\n",
      "6    3\n",
      "dtype: int64\n"
     ]
    }
   ],
   "source": [
    "#with the same element\n",
    "s4 = pd.Series(3, index = [1,2,3,4,5,6])\n",
    "print(s4)"
   ]
  },
  {
   "cell_type": "code",
   "execution_count": 25,
   "metadata": {},
   "outputs": [
    {
     "name": "stdout",
     "output_type": "stream",
     "text": [
      "0    0.634788\n",
      "1    0.595479\n",
      "2    0.240127\n",
      "3   -0.316226\n",
      "4   -2.168742\n",
      "5    0.934121\n",
      "6   -0.894508\n",
      "7   -0.726747\n",
      "8    0.874855\n",
      "dtype: float64\n",
      "0    0.634788\n",
      "1    0.595479\n",
      "2    0.240127\n",
      "3   -0.316226\n",
      "dtype: float64\n",
      "1    0.595479\n",
      "2    0.240127\n",
      "3   -0.316226\n",
      "4   -2.168742\n",
      "dtype: float64\n",
      "3   -0.316226\n",
      "4   -2.168742\n",
      "5    0.934121\n",
      "6   -0.894508\n",
      "7   -0.726747\n",
      "8    0.874855\n",
      "dtype: float64\n"
     ]
    }
   ],
   "source": [
    "s5 = pd.Series(np.random.randn(9))\n",
    "print(s5)\n",
    "print(s5[:4])\n",
    "print(s5[1:5])\n",
    "print(s5[3:])"
   ]
  },
  {
   "cell_type": "code",
   "execution_count": 27,
   "metadata": {},
   "outputs": [
    {
     "data": {
      "text/plain": [
       "mon    21\n",
       "tue    31\n",
       "wed    42\n",
       "thu    12\n",
       "fri    52\n",
       "sat    45\n",
       "sun    14\n",
       "dtype: int64"
      ]
     },
     "execution_count": 27,
     "metadata": {},
     "output_type": "execute_result"
    }
   ],
   "source": [
    " s6 = pd.Series({'mon':21,'tue':31,'wed':42,'thu':12, 'fri':52,'sat':45,'sun':14})\n",
    "s6"
   ]
  },
  {
   "cell_type": "code",
   "execution_count": 29,
   "metadata": {},
   "outputs": [
    {
     "data": {
      "text/plain": [
       "mon     42\n",
       "tue     62\n",
       "wed     84\n",
       "thu     24\n",
       "fri    104\n",
       "sat     90\n",
       "sun     28\n",
       "dtype: int64"
      ]
     },
     "execution_count": 29,
     "metadata": {},
     "output_type": "execute_result"
    }
   ],
   "source": [
    "s6*2"
   ]
  },
  {
   "cell_type": "code",
   "execution_count": 32,
   "metadata": {},
   "outputs": [
    {
     "name": "stdout",
     "output_type": "stream",
     "text": [
      "wed    42\n",
      "thu    12\n",
      "fri    52\n",
      "sat    45\n",
      "sun    14\n",
      "dtype: int64\n",
      "mon    21\n",
      "tue    31\n",
      "wed    42\n",
      "thu    12\n",
      "fri    52\n",
      "sat    45\n",
      "dtype: int64\n"
     ]
    },
    {
     "data": {
      "text/plain": [
       "fri    104.0\n",
       "mon      NaN\n",
       "sat     90.0\n",
       "sun      NaN\n",
       "thu     24.0\n",
       "tue      NaN\n",
       "wed     84.0\n",
       "dtype: float64"
      ]
     },
     "execution_count": 32,
     "metadata": {},
     "output_type": "execute_result"
    }
   ],
   "source": [
    "print(s6[2:])\n",
    "print(s6[:-1]) # bat dau tu vi tri cuoi cung ben tay phai, nhung ko bao gom vi tri nay = Sat, Fri, thu...\n",
    "\n",
    "s7 = s6[2:] + s6[:-1]\n",
    "s7"
   ]
  }
 ],
 "metadata": {
  "kernelspec": {
   "display_name": "Python 3",
   "language": "python",
   "name": "python3"
  },
  "language_info": {
   "codemirror_mode": {
    "name": "ipython",
    "version": 3
   },
   "file_extension": ".py",
   "mimetype": "text/x-python",
   "name": "python",
   "nbconvert_exporter": "python",
   "pygments_lexer": "ipython3",
   "version": "3.7.6"
  }
 },
 "nbformat": 4,
 "nbformat_minor": 4
}
