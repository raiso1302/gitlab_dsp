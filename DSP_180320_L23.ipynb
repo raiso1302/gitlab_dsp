{
 "cells": [
  {
   "cell_type": "code",
   "execution_count": 20,
   "metadata": {},
   "outputs": [
    {
     "name": "stdout",
     "output_type": "stream",
     "text": [
      "['3', ' ', '4']\n",
      "['3', '4']\n"
     ]
    }
   ],
   "source": [
    "s = '3 4'\n",
    "#split and remove space\n",
    "sl = s.split()\n",
    "#create a líst from s, include space\n",
    "sl1 = list(s)\n",
    "print(sl1)\n",
    "print(sl)"
   ]
  },
  {
   "cell_type": "code",
   "execution_count": 23,
   "metadata": {},
   "outputs": [
    {
     "data": {
      "text/plain": [
       "[3, 4]"
      ]
     },
     "execution_count": 23,
     "metadata": {},
     "output_type": "execute_result"
    }
   ],
   "source": [
    "#convert to int list\n",
    "sl_int = [int(sl[0]),int(sl[1])]\n",
    "sl_int"
   ]
  },
  {
   "cell_type": "code",
   "execution_count": 26,
   "metadata": {},
   "outputs": [
    {
     "name": "stdout",
     "output_type": "stream",
     "text": [
      "[[7, 7, 3, 7], [8, 4, 5, 6], [1, 4, 9, 3]]\n"
     ]
    }
   ],
   "source": [
    "#randomly create matrix\n",
    "#matrix has 3 values, in each values will be randomly create 4 elements list\n",
    "#import math randint\n",
    "from random import randint\n",
    "l = [[randint(1,9) for j in range(sl_int[1])] for i in range(sl_int[0])]\n",
    "print(l)"
   ]
  },
  {
   "cell_type": "markdown",
   "metadata": {},
   "source": [
    "# Problem 2"
   ]
  },
  {
   "cell_type": "code",
   "execution_count": 34,
   "metadata": {},
   "outputs": [
    {
     "name": "stdout",
     "output_type": "stream",
     "text": [
      "['python', 'bill', 'trump', 'java', 'pascal']\n"
     ]
    }
   ],
   "source": [
    "nl = ['Python',\n",
    "     'Bill',\n",
    "     'Trump',\n",
    "     'Java',\n",
    "     'Pascal']\n",
    "story = \"speaking at the white house, trump said the nation is overcome with shock, horror and sorrow. according to bill gate who said that python nowadays is great programming language for data scientist while java still be the first for mobile apps. pascal was dead. other news, please refer here...\"\n",
    "#find all those name in the nl and uppercase the first character\n",
    "#1 lower all case in nl\n",
    "nl_low = [nl[i].lower() for i in range(len(nl))]\n",
    "print(nl_low)\n",
    "#search for word in nl_low\n",
    "story.replace() for i in range(len(nl_low))\n",
    "#also uppercáse the first character of the first word of the sentence\n",
    "      \n",
    "#count unique word in the paragraph"
   ]
  },
  {
   "cell_type": "markdown",
   "metadata": {},
   "source": [
    "# Problem 3\n",
    "Randomly generate 1000 numbers on interval [1, 50] \n",
    "Count the occurence of each number. Print those numbers as well as its occurrence to console. Define a pretty format\n",
    "Given a number N, randomly generate a list of positive integer number such that sum of values in this list is N.\n"
   ]
  }
 ],
 "metadata": {
  "kernelspec": {
   "display_name": "Python 3",
   "language": "python",
   "name": "python3"
  },
  "language_info": {
   "codemirror_mode": {
    "name": "ipython",
    "version": 3
   },
   "file_extension": ".py",
   "mimetype": "text/x-python",
   "name": "python",
   "nbconvert_exporter": "python",
   "pygments_lexer": "ipython3",
   "version": "3.7.6"
  }
 },
 "nbformat": 4,
 "nbformat_minor": 4
}
