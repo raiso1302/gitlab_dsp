{
 "cells": [
  {
   "cell_type": "code",
   "execution_count": 2,
   "metadata": {},
   "outputs": [
    {
     "name": "stdout",
     "output_type": "stream",
     "text": [
      "1\n",
      "2\n",
      "3\n",
      "4\n",
      "5\n",
      "6\n",
      "7\n",
      "8\n",
      "9\n",
      "10\n"
     ]
    }
   ],
   "source": [
    "a = 0 \n",
    "while a < 10:\n",
    "    a = a + 1\n",
    "    print(a)"
   ]
  },
  {
   "cell_type": "code",
   "execution_count": 4,
   "metadata": {},
   "outputs": [
    {
     "name": "stdout",
     "output_type": "stream",
     "text": [
      "Enter text or type stop to quitstop\n"
     ]
    }
   ],
   "source": [
    "stop = False\n",
    "while not stop: \n",
    "    s = input('Enter text or type stop to quit')\n",
    "    if s == 'stop':\n",
    "        stop = True"
   ]
  },
  {
   "cell_type": "markdown",
   "metadata": {},
   "source": [
    "## List comprehension"
   ]
  },
  {
   "cell_type": "markdown",
   "metadata": {},
   "source": [
    "[ expression for name in iterable obj ]"
   ]
  },
  {
   "cell_type": "code",
   "execution_count": 8,
   "metadata": {},
   "outputs": [
    {
     "name": "stdout",
     "output_type": "stream",
     "text": [
      "[0, 1, 4, 9, 16, 25, 36, 49]\n"
     ]
    }
   ],
   "source": [
    "newList = [x**2 for x in range(0,8)]\n",
    "print(newList)"
   ]
  },
  {
   "cell_type": "code",
   "execution_count": 3,
   "metadata": {},
   "outputs": [
    {
     "data": {
      "text/plain": [
       "[5, 7]"
      ]
     },
     "execution_count": 3,
     "metadata": {},
     "output_type": "execute_result"
    }
   ],
   "source": [
    "odd = [x for x in range(0,8) if x%2!=0 and x > 4]\n",
    "odd"
   ]
  },
  {
   "cell_type": "code",
   "execution_count": 4,
   "metadata": {},
   "outputs": [
    {
     "data": {
      "text/plain": [
       "[0.0, 1, 1.0, 9, 2.0, 25, 3.0, 49]"
      ]
     },
     "execution_count": 4,
     "metadata": {},
     "output_type": "execute_result"
    }
   ],
   "source": [
    "mytuple= (0,1,2,3,4,5,6,7)\n",
    "a = [x/2 if x%2 ==0 else x**2 for x in mytuple]\n",
    "a"
   ]
  },
  {
   "cell_type": "code",
   "execution_count": 18,
   "metadata": {},
   "outputs": [
    {
     "data": {
      "text/plain": [
       "[[2, 4, 6], [8, 10, 12]]"
      ]
     },
     "execution_count": 18,
     "metadata": {},
     "output_type": "execute_result"
    }
   ],
   "source": [
    "m = [[1,2,3],[4,5,6]]\n",
    "#List comprehension\n",
    "#first it run from the outside for each element of m. Each of m element again is a list x. \n",
    "#run for every element in x\n",
    "mul = [[i*2 for i in x] for x in m]\n",
    "mul"
   ]
  },
  {
   "cell_type": "code",
   "execution_count": 22,
   "metadata": {},
   "outputs": [
    {
     "name": "stdout",
     "output_type": "stream",
     "text": [
      "index=0 -- value = h\n",
      "index=1 -- value = e\n",
      "index=2 -- value = l\n",
      "index=3 -- value = l\n",
      "index=4 -- value = o\n",
      "index=5 -- value =  \n",
      "index=6 -- value = e\n",
      "index=7 -- value = v\n",
      "index=8 -- value = e\n",
      "index=9 -- value = r\n",
      "index=10 -- value = y\n",
      "index=11 -- value = o\n",
      "index=12 -- value = n\n",
      "index=13 -- value = e\n",
      "index=14 -- value = !\n"
     ]
    }
   ],
   "source": [
    "s = 'hello everyone!'\n",
    "for idx, it in enumerate(s):\n",
    "    print('index={} -- value = {}'.format(idx, it))"
   ]
  },
  {
   "cell_type": "code",
   "execution_count": 24,
   "metadata": {},
   "outputs": [
    {
     "name": "stdout",
     "output_type": "stream",
     "text": [
      "enter a string or [stop] keyword to quit!stop\n"
     ]
    }
   ],
   "source": [
    "while True: \n",
    "    s = input('enter a string or [stop] keyword to quit!')\n",
    "    if s == 'stop':\n",
    "        break\n",
    "    else:\n",
    "        print('do something with [s]....')\n",
    "        print('word count = {}'.format(len(s.split())))"
   ]
  },
  {
   "cell_type": "code",
   "execution_count": 26,
   "metadata": {},
   "outputs": [
    {
     "name": "stdout",
     "output_type": "stream",
     "text": [
      "Enter a string with moẻ than 5 words or [stop] keyword to quitstop\n",
      "Do st with [s]\n",
      "word count = 1\n"
     ]
    }
   ],
   "source": [
    "a = ''\n",
    "while a !='stop':\n",
    "    a = input('Enter a string with moẻ than 5 words or [stop] keyword to quit')\n",
    "    print('Do st with [s]')\n",
    "    print('word count = {}'.format(len(a.split())))       "
   ]
  },
  {
   "cell_type": "code",
   "execution_count": 9,
   "metadata": {},
   "outputs": [
    {
     "name": "stdout",
     "output_type": "stream",
     "text": [
      "Enter a integer number! -1 to quit3\n",
      "Oh no! try again\n",
      "Enter a integer number! -1 to quit-1\n"
     ]
    }
   ],
   "source": [
    "import random\n",
    "while True:\n",
    "    a = input('Enter a integer number! -1 to quit')\n",
    "    a = int(a)\n",
    "    if a == -1:\n",
    "        break\n",
    "    x = 'You got a lucky number' if a % random.randint(0,9) == 0 else 'Oh no! try again'\n",
    "    print(x)"
   ]
  },
  {
   "cell_type": "markdown",
   "metadata": {},
   "source": [
    "## Exercise 1"
   ]
  },
  {
   "cell_type": "code",
   "execution_count": 10,
   "metadata": {},
   "outputs": [
    {
     "name": "stdout",
     "output_type": "stream",
     "text": [
      "Enter two integer number, separated by space2 3\n",
      "row = 2 -- col = 3\n"
     ]
    }
   ],
   "source": [
    "s = input('Enter two integer number, separated by space')\n",
    "s = s.split()\n",
    "row = int(s[0])\n",
    "col = int(s[1])\n",
    "print('row = {} -- col = {}'.format(row,col))"
   ]
  },
  {
   "cell_type": "code",
   "execution_count": 31,
   "metadata": {},
   "outputs": [
    {
     "name": "stdout",
     "output_type": "stream",
     "text": [
      "[[10, 2, 1], [17, 17, 18]]\n"
     ]
    }
   ],
   "source": [
    "#quéstion 2\n",
    "#solution 1\n",
    "m = []\n",
    "for i in range(row):\n",
    "    mr = []\n",
    "    for j in range(col):\n",
    "        mr.append(random.randint(0,20))\n",
    "    m.append(mr)\n",
    "print(m)"
   ]
  },
  {
   "cell_type": "code",
   "execution_count": 11,
   "metadata": {},
   "outputs": [
    {
     "name": "stdout",
     "output_type": "stream",
     "text": [
      "   [ [0, 2, 20] ,\n",
      "l =  [19, 20, 7] ,\n"
     ]
    }
   ],
   "source": [
    "#solution 2 list comprehension\n",
    "m = [[random.randint(0,20) for j in range(col)] for i in range(row)]\n",
    "#print(*m, sep ='\\n') # not as request in question\n",
    "for idx, it in enumerate(m):\n",
    "    if idx == 0:\n",
    "        print(' '*2, '[', it, ',')\n",
    "    elif idx == len(m)//2:\n",
    "        print('l = ', it, ',')\n",
    "    elif idx == (len(m)-1):\n",
    "        print(' '*4, it, ' ]')\n",
    "    else:\n",
    "        print(' '*4, it, ',')"
   ]
  },
  {
   "cell_type": "markdown",
   "metadata": {},
   "source": [
    "## Set"
   ]
  },
  {
   "cell_type": "code",
   "execution_count": 45,
   "metadata": {},
   "outputs": [
    {
     "name": "stdout",
     "output_type": "stream",
     "text": [
      "{'e', 'h', 'ê'}\n"
     ]
    }
   ],
   "source": [
    "s1 = set('hêhhehe')\n",
    "print(s1)"
   ]
  },
  {
   "cell_type": "code",
   "execution_count": 47,
   "metadata": {},
   "outputs": [
    {
     "ename": "TypeError",
     "evalue": "'set' object is not subscriptable",
     "output_type": "error",
     "traceback": [
      "\u001b[0;31m---------------------------------------------------------------------------\u001b[0m",
      "\u001b[0;31mTypeError\u001b[0m                                 Traceback (most recent call last)",
      "\u001b[0;32m<ipython-input-47-e30c8418859b>\u001b[0m in \u001b[0;36m<module>\u001b[0;34m\u001b[0m\n\u001b[0;32m----> 1\u001b[0;31m \u001b[0mprint\u001b[0m\u001b[0;34m(\u001b[0m\u001b[0ms1\u001b[0m\u001b[0;34m[\u001b[0m\u001b[0;36m0\u001b[0m\u001b[0;34m]\u001b[0m\u001b[0;34m)\u001b[0m \u001b[0;31m# error\u001b[0m\u001b[0;34m\u001b[0m\u001b[0;34m\u001b[0m\u001b[0m\n\u001b[0m",
      "\u001b[0;31mTypeError\u001b[0m: 'set' object is not subscriptable"
     ]
    }
   ],
   "source": [
    "print(s1[0]) # error"
   ]
  },
  {
   "cell_type": "code",
   "execution_count": 49,
   "metadata": {},
   "outputs": [
    {
     "data": {
      "text/plain": [
       "{'e', 'ê'}"
      ]
     },
     "execution_count": 49,
     "metadata": {},
     "output_type": "execute_result"
    }
   ],
   "source": [
    "s1.discard('h')\n",
    "s1"
   ]
  },
  {
   "cell_type": "code",
   "execution_count": 51,
   "metadata": {},
   "outputs": [
    {
     "data": {
      "text/plain": [
       "{3, 5, '6rw', 7, 9}"
      ]
     },
     "execution_count": 51,
     "metadata": {},
     "output_type": "execute_result"
    }
   ],
   "source": [
    "s2 = set([3,5,7,9,3,5,'6rw'])\n",
    "s2"
   ]
  },
  {
   "cell_type": "code",
   "execution_count": 53,
   "metadata": {},
   "outputs": [
    {
     "name": "stdout",
     "output_type": "stream",
     "text": [
      "3\n",
      "5\n",
      "7\n",
      "9\n",
      "6rw\n"
     ]
    }
   ],
   "source": [
    "for e in s2:\n",
    "    print(e)"
   ]
  },
  {
   "cell_type": "code",
   "execution_count": 12,
   "metadata": {},
   "outputs": [
    {
     "ename": "NameError",
     "evalue": "name 's2' is not defined",
     "output_type": "error",
     "traceback": [
      "\u001b[0;31m---------------------------------------------------------------------------\u001b[0m",
      "\u001b[0;31mNameError\u001b[0m                                 Traceback (most recent call last)",
      "\u001b[0;32m<ipython-input-12-6f2504aae72c>\u001b[0m in \u001b[0;36m<module>\u001b[0;34m\u001b[0m\n\u001b[0;32m----> 1\u001b[0;31m \u001b[0mp\u001b[0m \u001b[0;34m=\u001b[0m \u001b[0ms2\u001b[0m\u001b[0;34m.\u001b[0m\u001b[0mpop\u001b[0m\u001b[0;34m(\u001b[0m\u001b[0;34m)\u001b[0m\u001b[0;34m\u001b[0m\u001b[0;34m\u001b[0m\u001b[0m\n\u001b[0m\u001b[1;32m      2\u001b[0m \u001b[0mp\u001b[0m\u001b[0;34m\u001b[0m\u001b[0;34m\u001b[0m\u001b[0m\n",
      "\u001b[0;31mNameError\u001b[0m: name 's2' is not defined"
     ]
    }
   ],
   "source": [
    "p = s2.pop()\n",
    "p"
   ]
  },
  {
   "cell_type": "code",
   "execution_count": 16,
   "metadata": {},
   "outputs": [
    {
     "name": "stdout",
     "output_type": "stream",
     "text": [
      "[1, 3, 4]\n",
      "[1, 3, 4]\n",
      "[1, 3, 4]\n",
      "[1, 3, 4]\n"
     ]
    }
   ],
   "source": [
    "l1 = [1,3,4,5]\n",
    "l2 = l1\n",
    "l1.pop(3)\n",
    "print(l1)\n",
    "print(l2)\n",
    "l2*2\n",
    "print(l1)\n",
    "print(l2)"
   ]
  }
 ],
 "metadata": {
  "kernelspec": {
   "display_name": "Python 3",
   "language": "python",
   "name": "python3"
  },
  "language_info": {
   "codemirror_mode": {
    "name": "ipython",
    "version": 3
   },
   "file_extension": ".py",
   "mimetype": "text/x-python",
   "name": "python",
   "nbconvert_exporter": "python",
   "pygments_lexer": "ipython3",
   "version": "3.7.6"
  }
 },
 "nbformat": 4,
 "nbformat_minor": 4
}
